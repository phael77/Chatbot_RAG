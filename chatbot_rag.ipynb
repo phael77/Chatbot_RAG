{
 "cells": [
  {
   "cell_type": "code",
   "execution_count": 2,
   "metadata": {},
   "outputs": [],
   "source": [
    "import os\n",
    "from dotenv import load_dotenv\n",
    "from langchain_openai import ChatOpenAI\n"
   ]
  },
  {
   "cell_type": "code",
   "execution_count": 3,
   "metadata": {},
   "outputs": [
    {
     "name": "stdout",
     "output_type": "stream",
     "text": [
      "True\n"
     ]
    }
   ],
   "source": [
    "api_key = os.getenv('OPENAI_API_KEY')\n",
    "\n",
    "print(api_key is not None)"
   ]
  },
  {
   "cell_type": "code",
   "execution_count": 4,
   "metadata": {},
   "outputs": [],
   "source": [
    "chat = ChatOpenAI(\n",
    "    model = 'gpt-4o-mini'\n",
    ")"
   ]
  },
  {
   "cell_type": "code",
   "execution_count": 5,
   "metadata": {},
   "outputs": [],
   "source": [
    "from langchain.schema import SystemMessage, HumanMessage, AIMessage\n",
    "\n",
    "message = [\n",
    "    SystemMessage(content=\"Você é um assistente especializado em games, principalmente em FPS\"),\n",
    "    HumanMessage(content=\"Qual o melhor jogo de tiro em primeira pessoa?\"),\n",
    "    AIMessage(content=\"O melhor jogo de tiro em primeira pessoa é o Counter-Strike 2\"),\n",
    "    HumanMessage(content=\"Por que você acha isso?\"),\n",
    "]"
   ]
  },
  {
   "cell_type": "code",
   "execution_count": 6,
   "metadata": {},
   "outputs": [
    {
     "data": {
      "text/plain": [
       "AIMessage(content='A escolha do Counter-Strike 2 como um dos melhores jogos de tiro em primeira pessoa se baseia em vários fatores:\\n\\n1. **Competitividade**: Counter-Strike tem uma das comunidades mais competitivas do mundo dos eSports. O jogo é frequentemente usado em torneios de alto nível, o que atrai jogadores que buscam desafios.\\n\\n2. **Jogabilidade Tática**: O jogo enfatiza a estratégia e a comunicação em equipe. As partidas exigem coordenação e táticas bem elaboradas, o que proporciona uma experiência envolvente.\\n\\n3. **Acessibilidade**: A série Counter-Strike é conhecida por ser acessível a novos jogadores, ao mesmo tempo que oferece profundidade suficiente para jogadores experientes. O sistema de compra de armas e a mecânica de jogo são intuitivos, mas exigem prática para dominar.\\n\\n4. **Atualizações e Suporte**: A Valve, desenvolvedora do jogo, tem um histórico de suporte contínuo e atualizações, mantendo o jogo relevante e interessante ao longo do tempo.\\n\\n5. **Popularidade e Cultura**: Counter-Strike é um dos jogos mais populares do mundo, com uma base de jogadores sólida e uma rica cultura em torno dele, incluindo vídeos, streams e conteúdo criativo.\\n\\nEsses fatores, entre outros, fazem do Counter-Strike 2 uma referência no gênero de FPS. No entanto, a escolha do \"melhor\" jogo pode ser subjetiva e variar de acordo com as preferências pessoais de cada jogador. Outros títulos como Call of Duty, Battlefield e Apex Legends também têm suas próprias qualidades que podem atrair diferentes públicos.', additional_kwargs={'refusal': None}, response_metadata={'token_usage': {'completion_tokens': 331, 'prompt_tokens': 62, 'total_tokens': 393, 'completion_tokens_details': {'accepted_prediction_tokens': 0, 'audio_tokens': 0, 'reasoning_tokens': 0, 'rejected_prediction_tokens': 0}, 'prompt_tokens_details': {'audio_tokens': 0, 'cached_tokens': 0}}, 'model_name': 'gpt-4o-mini-2024-07-18', 'system_fingerprint': 'fp_0aa8d3e20b', 'finish_reason': 'stop', 'logprobs': None}, id='run-c0195419-855e-444c-8196-b1c34d53757c-0', usage_metadata={'input_tokens': 62, 'output_tokens': 331, 'total_tokens': 393, 'input_token_details': {'audio': 0, 'cache_read': 0}, 'output_token_details': {'audio': 0, 'reasoning': 0}})"
      ]
     },
     "execution_count": 6,
     "metadata": {},
     "output_type": "execute_result"
    }
   ],
   "source": [
    "res = chat.invoke(message)\n",
    "res"
   ]
  },
  {
   "cell_type": "code",
   "execution_count": 7,
   "metadata": {},
   "outputs": [
    {
     "name": "stdout",
     "output_type": "stream",
     "text": [
      "A escolha do Counter-Strike 2 como um dos melhores jogos de tiro em primeira pessoa se baseia em vários fatores:\n",
      "\n",
      "1. **Competitividade**: Counter-Strike tem uma das comunidades mais competitivas do mundo dos eSports. O jogo é frequentemente usado em torneios de alto nível, o que atrai jogadores que buscam desafios.\n",
      "\n",
      "2. **Jogabilidade Tática**: O jogo enfatiza a estratégia e a comunicação em equipe. As partidas exigem coordenação e táticas bem elaboradas, o que proporciona uma experiência envolvente.\n",
      "\n",
      "3. **Acessibilidade**: A série Counter-Strike é conhecida por ser acessível a novos jogadores, ao mesmo tempo que oferece profundidade suficiente para jogadores experientes. O sistema de compra de armas e a mecânica de jogo são intuitivos, mas exigem prática para dominar.\n",
      "\n",
      "4. **Atualizações e Suporte**: A Valve, desenvolvedora do jogo, tem um histórico de suporte contínuo e atualizações, mantendo o jogo relevante e interessante ao longo do tempo.\n",
      "\n",
      "5. **Popularidade e Cultura**: Counter-Strike é um dos jogos mais populares do mundo, com uma base de jogadores sólida e uma rica cultura em torno dele, incluindo vídeos, streams e conteúdo criativo.\n",
      "\n",
      "Esses fatores, entre outros, fazem do Counter-Strike 2 uma referência no gênero de FPS. No entanto, a escolha do \"melhor\" jogo pode ser subjetiva e variar de acordo com as preferências pessoais de cada jogador. Outros títulos como Call of Duty, Battlefield e Apex Legends também têm suas próprias qualidades que podem atrair diferentes públicos.\n"
     ]
    }
   ],
   "source": [
    "print(res.content)"
   ]
  },
  {
   "cell_type": "code",
   "execution_count": 8,
   "metadata": {},
   "outputs": [],
   "source": [
    "message.append(res)"
   ]
  },
  {
   "cell_type": "code",
   "execution_count": 9,
   "metadata": {},
   "outputs": [
    {
     "data": {
      "text/plain": [
       "[SystemMessage(content='Você é um assistente especializado em games, principalmente em FPS', additional_kwargs={}, response_metadata={}),\n",
       " HumanMessage(content='Qual o melhor jogo de tiro em primeira pessoa?', additional_kwargs={}, response_metadata={}),\n",
       " AIMessage(content='O melhor jogo de tiro em primeira pessoa é o Counter-Strike 2', additional_kwargs={}, response_metadata={}),\n",
       " HumanMessage(content='Por que você acha isso?', additional_kwargs={}, response_metadata={}),\n",
       " AIMessage(content='A escolha do Counter-Strike 2 como um dos melhores jogos de tiro em primeira pessoa se baseia em vários fatores:\\n\\n1. **Competitividade**: Counter-Strike tem uma das comunidades mais competitivas do mundo dos eSports. O jogo é frequentemente usado em torneios de alto nível, o que atrai jogadores que buscam desafios.\\n\\n2. **Jogabilidade Tática**: O jogo enfatiza a estratégia e a comunicação em equipe. As partidas exigem coordenação e táticas bem elaboradas, o que proporciona uma experiência envolvente.\\n\\n3. **Acessibilidade**: A série Counter-Strike é conhecida por ser acessível a novos jogadores, ao mesmo tempo que oferece profundidade suficiente para jogadores experientes. O sistema de compra de armas e a mecânica de jogo são intuitivos, mas exigem prática para dominar.\\n\\n4. **Atualizações e Suporte**: A Valve, desenvolvedora do jogo, tem um histórico de suporte contínuo e atualizações, mantendo o jogo relevante e interessante ao longo do tempo.\\n\\n5. **Popularidade e Cultura**: Counter-Strike é um dos jogos mais populares do mundo, com uma base de jogadores sólida e uma rica cultura em torno dele, incluindo vídeos, streams e conteúdo criativo.\\n\\nEsses fatores, entre outros, fazem do Counter-Strike 2 uma referência no gênero de FPS. No entanto, a escolha do \"melhor\" jogo pode ser subjetiva e variar de acordo com as preferências pessoais de cada jogador. Outros títulos como Call of Duty, Battlefield e Apex Legends também têm suas próprias qualidades que podem atrair diferentes públicos.', additional_kwargs={'refusal': None}, response_metadata={'token_usage': {'completion_tokens': 331, 'prompt_tokens': 62, 'total_tokens': 393, 'completion_tokens_details': {'accepted_prediction_tokens': 0, 'audio_tokens': 0, 'reasoning_tokens': 0, 'rejected_prediction_tokens': 0}, 'prompt_tokens_details': {'audio_tokens': 0, 'cached_tokens': 0}}, 'model_name': 'gpt-4o-mini-2024-07-18', 'system_fingerprint': 'fp_0aa8d3e20b', 'finish_reason': 'stop', 'logprobs': None}, id='run-c0195419-855e-444c-8196-b1c34d53757c-0', usage_metadata={'input_tokens': 62, 'output_tokens': 331, 'total_tokens': 393, 'input_token_details': {'audio': 0, 'cache_read': 0}, 'output_token_details': {'audio': 0, 'reasoning': 0}})]"
      ]
     },
     "execution_count": 9,
     "metadata": {},
     "output_type": "execute_result"
    }
   ],
   "source": [
    "message"
   ]
  },
  {
   "cell_type": "code",
   "execution_count": 10,
   "metadata": {},
   "outputs": [],
   "source": [
    "prompt = HumanMessage(content=\"Qual a diferença entre CSGO e CS2\")\n",
    "message.append(prompt)"
   ]
  },
  {
   "cell_type": "code",
   "execution_count": 11,
   "metadata": {},
   "outputs": [
    {
     "name": "stdout",
     "output_type": "stream",
     "text": [
      "A transição de Counter-Strike: Global Offensive (CS:GO) para Counter-Strike 2 (CS2) trouxe várias mudanças e melhorias. Aqui estão algumas das principais diferenças entre os dois jogos:\n",
      "\n",
      "1. **Gráficos e Motor Gráfico**: CS2 utiliza o motor Source 2, que oferece gráficos melhorados, incluindo iluminação dinâmica, texturas de maior qualidade e efeitos visuais mais avançados. Isso resulta em um visual mais moderno e atraente em comparação com CS:GO.\n",
      "\n",
      "2. **Interface de Usuário (UI)**: A interface do usuário foi atualizada para ser mais moderna e amigável. Isso inclui menus, HUDs e outras opções de navegação melhoradas.\n",
      "\n",
      "3. **Mapas e Design de Mapas**: Muitos mapas foram reformulados ou atualizados para aproveitar as novas capacidades gráficas do motor Source 2. Isso inclui melhorias na jogabilidade e na estética dos mapas.\n",
      "\n",
      "4. **Física e Interatividade**: O novo motor permite uma física mais realista, o que pode impactar a maneira como os jogadores interagem com o ambiente e objetos no jogo.\n",
      "\n",
      "5. **Sistema de Smoke Grenades**: Uma das mudanças mais notáveis é a nova mecânica para granadas de fumaça. As fumaças agora se comportam de maneira mais realista, interagindo com luz e outros efeitos, o que pode adicionar uma nova camada de estratégia ao jogo.\n",
      "\n",
      "6. **Atualizações e Suporte**: CS2 é projetado para receber atualizações contínuas e pode ter um ciclo de vida mais longo, com a Valve se comprometendo a oferecer novos conteúdos e melhorias.\n",
      "\n",
      "7. **Novos Recursos**: CS2 pode incluir novos modos de jogo, sistemas de matchmaking e mudanças na economia do jogo, embora muitos dos aspectos fundamentais de CS:GO, como jogabilidade e mecânica de tiro, permaneçam semelhantes.\n",
      "\n",
      "8. **Transição de Contas**: Para os jogadores de CS:GO, a transição para CS2 é facilitada, permitindo que eles mantenham suas contas, skins e conquistas.\n",
      "\n",
      "Essas são algumas das principais diferenças que destacam CS2 como uma evolução de CS:GO, mantendo, ao mesmo tempo, a essência que fez da série Counter-Strike um dos maiores sucessos no mundo dos jogos.\n"
     ]
    }
   ],
   "source": [
    "res = chat.invoke(message)\n",
    "print(res.content)"
   ]
  },
  {
   "cell_type": "markdown",
   "metadata": {},
   "source": [
    "*Hallucination*"
   ]
  },
  {
   "cell_type": "code",
   "execution_count": 12,
   "metadata": {},
   "outputs": [
    {
     "name": "stdout",
     "output_type": "stream",
     "text": [
      "Até a minha última atualização em outubro de 2023, o campeonato mais recente de Counter-Strike 2 foi o **BLAST Premier: Fall 2023 Finals**, que ocorreu em dezembro de 2023. O time campeão desse torneio foi a **Team Vitality**. Eles venceram a final contra a **G2 Esports**. \n",
      "\n",
      "Entretanto, é sempre bom verificar as fontes de notícias mais recentes, pois novos torneios e campeonatos acontecem frequentemente, e o cenário competitivo de CS2 está em constante mudança.\n"
     ]
    }
   ],
   "source": [
    "message.append(res)\n",
    "\n",
    "prompt = HumanMessage(content=\"Qual foi o time campẽao do último campeonato de CS2?\")\n",
    "\n",
    "message.append(prompt)\n",
    "\n",
    "res = chat.invoke(message)\n",
    "\n",
    "print(res.content)"
   ]
  },
  {
   "cell_type": "markdown",
   "metadata": {},
   "source": [
    "*Context injection*"
   ]
  },
  {
   "cell_type": "code",
   "execution_count": 13,
   "metadata": {},
   "outputs": [],
   "source": [
    "cs2_champions_information = [\n",
    "    \" The most recent team to win a Counter-Strike 2 (CS2) Major was Team Spirit, which triumphed at the Perfect World Shanghai Major 2024, held from December 1 to 15, 2024. In the final, Team Spirit faced FaZe Clan, winning 2-1 in a thrilling series. Team Spirit player donk stood out by being named the tournament Most Valuable Player (MVP), becoming the youngest player to receive this honor in a Counter-Strike Major.\",\n",
    "    \n",
    "    \"Before this event, Natus Vincere (NAVI) claimed the first CS2 Major title at the PGL Major Copenhagen 2024, held from March 17 to 31, 2024, by defeating FaZe Clan in the grand final.\",\n",
    "\n",
    "    \"Astralis remains the organization with the most Major titles, totaling four championships. 0\"\n",
    "]\n",
    "\n",
    "source_knowledge = \"\\n\".join(cs2_champions_information)"
   ]
  },
  {
   "cell_type": "code",
   "execution_count": 14,
   "metadata": {},
   "outputs": [],
   "source": [
    "query = \"Você sabe quem foi o campeão do último campeonato de CS2?\"\n",
    "\n",
    "augmented_prompt = f\"\"\"Use o contexto abaixo para responder a seguinte pergunta:\n",
    "\n",
    "Contexto: {source_knowledge}\n",
    "\n",
    "Pergunta: {query}\n",
    "\n",
    "\"\"\""
   ]
  },
  {
   "cell_type": "code",
   "execution_count": 15,
   "metadata": {},
   "outputs": [
    {
     "name": "stdout",
     "output_type": "stream",
     "text": [
      "Sim, o campeão do último campeonato de Counter-Strike 2 (CS2) foi a Team Spirit, que venceu o Perfect World Shanghai Major 2024, realizado de 1 a 15 de dezembro de 2024. Eles derrotaram a FaZe Clan na final, com um placar de 2-1.\n"
     ]
    }
   ],
   "source": [
    "prompt = HumanMessage(\n",
    "    content=augmented_prompt\n",
    ")\n",
    "\n",
    "message.append(prompt)\n",
    "\n",
    "res = chat.invoke(message)\n",
    "print(res.content)"
   ]
  },
  {
   "cell_type": "markdown",
   "metadata": {},
   "source": [
    "*Embeddings*"
   ]
  },
  {
   "cell_type": "code",
   "execution_count": 16,
   "metadata": {},
   "outputs": [],
   "source": [
    "from langchain_openai import OpenAIEmbeddings\n",
    "embed_model = OpenAIEmbeddings(model=\"text-embedding-3-small\")"
   ]
  },
  {
   "cell_type": "code",
   "execution_count": 17,
   "metadata": {},
   "outputs": [
    {
     "data": {
      "text/plain": [
       "(2, 1536)"
      ]
     },
     "execution_count": 17,
     "metadata": {},
     "output_type": "execute_result"
    }
   ],
   "source": [
    "texts = [\n",
    "    'this is a test',\n",
    "    'this is another test',\n",
    "]\n",
    "\n",
    "res = embed_model.embed_documents(texts)\n",
    "len(res), len(res[0])"
   ]
  },
  {
   "cell_type": "markdown",
   "metadata": {},
   "source": [
    "*RAG*"
   ]
  },
  {
   "cell_type": "code",
   "execution_count": 18,
   "metadata": {},
   "outputs": [
    {
     "data": {
      "text/plain": [
       "Dataset({\n",
       "    features: ['text'],\n",
       "    num_rows: 1373\n",
       "})"
      ]
     },
     "execution_count": 18,
     "metadata": {},
     "output_type": "execute_result"
    }
   ],
   "source": [
    "from datasets import load_dataset\n",
    "dataset = load_dataset(\"assafm/counter-strike-001\", split=\"train\")\n",
    "dataset"
   ]
  },
  {
   "cell_type": "code",
   "execution_count": 19,
   "metadata": {},
   "outputs": [
    {
     "data": {
      "text/plain": [
       "{'text': '<s>[INST] What are the different types of ammunition featured in the Counter-Strike series? [/INST] Pistol, rifle, shotgun, and heavy ammunition </s>'}"
      ]
     },
     "execution_count": 19,
     "metadata": {},
     "output_type": "execute_result"
    }
   ],
   "source": [
    "dataset[0]"
   ]
  },
  {
   "cell_type": "code",
   "execution_count": 20,
   "metadata": {},
   "outputs": [
    {
     "data": {
      "text/html": [
       "<div>\n",
       "<style scoped>\n",
       "    .dataframe tbody tr th:only-of-type {\n",
       "        vertical-align: middle;\n",
       "    }\n",
       "\n",
       "    .dataframe tbody tr th {\n",
       "        vertical-align: top;\n",
       "    }\n",
       "\n",
       "    .dataframe thead th {\n",
       "        text-align: right;\n",
       "    }\n",
       "</style>\n",
       "<table border=\"1\" class=\"dataframe\">\n",
       "  <thead>\n",
       "    <tr style=\"text-align: right;\">\n",
       "      <th></th>\n",
       "      <th>text</th>\n",
       "    </tr>\n",
       "  </thead>\n",
       "  <tbody>\n",
       "    <tr>\n",
       "      <th>0</th>\n",
       "      <td>&lt;s&gt;[INST] What are the different types of ammu...</td>\n",
       "    </tr>\n",
       "    <tr>\n",
       "      <th>1</th>\n",
       "      <td>&lt;s&gt;[INST] What is the simplest way to gauge th...</td>\n",
       "    </tr>\n",
       "    <tr>\n",
       "      <th>2</th>\n",
       "      <td>&lt;s&gt;[INST] How do players purchase ammunition i...</td>\n",
       "    </tr>\n",
       "    <tr>\n",
       "      <th>3</th>\n",
       "      <td>&lt;s&gt;[INST] When do players receive full ammo fo...</td>\n",
       "    </tr>\n",
       "    <tr>\n",
       "      <th>4</th>\n",
       "      <td>&lt;s&gt;[INST] Can players keep the reserve ammo wh...</td>\n",
       "    </tr>\n",
       "  </tbody>\n",
       "</table>\n",
       "</div>"
      ],
      "text/plain": [
       "                                                text\n",
       "0  <s>[INST] What are the different types of ammu...\n",
       "1  <s>[INST] What is the simplest way to gauge th...\n",
       "2  <s>[INST] How do players purchase ammunition i...\n",
       "3  <s>[INST] When do players receive full ammo fo...\n",
       "4  <s>[INST] Can players keep the reserve ammo wh..."
      ]
     },
     "execution_count": 20,
     "metadata": {},
     "output_type": "execute_result"
    }
   ],
   "source": [
    "data = dataset.to_pandas()\n",
    "data.head()"
   ]
  },
  {
   "cell_type": "code",
   "execution_count": 23,
   "metadata": {},
   "outputs": [
    {
     "data": {
      "text/html": [
       "<div>\n",
       "<style scoped>\n",
       "    .dataframe tbody tr th:only-of-type {\n",
       "        vertical-align: middle;\n",
       "    }\n",
       "\n",
       "    .dataframe tbody tr th {\n",
       "        vertical-align: top;\n",
       "    }\n",
       "\n",
       "    .dataframe thead th {\n",
       "        text-align: right;\n",
       "    }\n",
       "</style>\n",
       "<table border=\"1\" class=\"dataframe\">\n",
       "  <thead>\n",
       "    <tr style=\"text-align: right;\">\n",
       "      <th></th>\n",
       "      <th>text</th>\n",
       "    </tr>\n",
       "  </thead>\n",
       "  <tbody>\n",
       "    <tr>\n",
       "      <th>0</th>\n",
       "      <td>&lt;s&gt;[INST] What are the different types of ammu...</td>\n",
       "    </tr>\n",
       "    <tr>\n",
       "      <th>1</th>\n",
       "      <td>&lt;s&gt;[INST] What is the simplest way to gauge th...</td>\n",
       "    </tr>\n",
       "    <tr>\n",
       "      <th>2</th>\n",
       "      <td>&lt;s&gt;[INST] How do players purchase ammunition i...</td>\n",
       "    </tr>\n",
       "    <tr>\n",
       "      <th>3</th>\n",
       "      <td>&lt;s&gt;[INST] When do players receive full ammo fo...</td>\n",
       "    </tr>\n",
       "    <tr>\n",
       "      <th>4</th>\n",
       "      <td>&lt;s&gt;[INST] Can players keep the reserve ammo wh...</td>\n",
       "    </tr>\n",
       "  </tbody>\n",
       "</table>\n",
       "</div>"
      ],
      "text/plain": [
       "                                                text\n",
       "0  <s>[INST] What are the different types of ammu...\n",
       "1  <s>[INST] What is the simplest way to gauge th...\n",
       "2  <s>[INST] How do players purchase ammunition i...\n",
       "3  <s>[INST] When do players receive full ammo fo...\n",
       "4  <s>[INST] Can players keep the reserve ammo wh..."
      ]
     },
     "execution_count": 23,
     "metadata": {},
     "output_type": "execute_result"
    }
   ],
   "source": [
    "docs = data[['text']]\n",
    "docs.head()"
   ]
  },
  {
   "cell_type": "code",
   "execution_count": 27,
   "metadata": {},
   "outputs": [],
   "source": [
    "from langchain_community.document_loaders import DataFrameLoader\n",
    "\n",
    "loader = DataFrameLoader(docs, page_content_column='text')\n",
    "documents = loader.load()"
   ]
  },
  {
   "cell_type": "code",
   "execution_count": 28,
   "metadata": {},
   "outputs": [
    {
     "data": {
      "text/plain": [
       "Document(metadata={}, page_content='<s>[INST] What are the different types of ammunition featured in the Counter-Strike series? [/INST] Pistol, rifle, shotgun, and heavy ammunition </s>')"
      ]
     },
     "execution_count": 28,
     "metadata": {},
     "output_type": "execute_result"
    }
   ],
   "source": [
    "documents[0]"
   ]
  },
  {
   "cell_type": "code",
   "execution_count": 29,
   "metadata": {},
   "outputs": [
    {
     "data": {
      "text/plain": [
       "'<s>[INST] What are the different types of ammunition featured in the Counter-Strike series? [/INST] Pistol, rifle, shotgun, and heavy ammunition </s>'"
      ]
     },
     "execution_count": 29,
     "metadata": {},
     "output_type": "execute_result"
    }
   ],
   "source": [
    "documents[0].page_content"
   ]
  },
  {
   "cell_type": "code",
   "execution_count": 30,
   "metadata": {},
   "outputs": [
    {
     "data": {
      "text/plain": [
       "{}"
      ]
     },
     "execution_count": 30,
     "metadata": {},
     "output_type": "execute_result"
    }
   ],
   "source": [
    "documents[0].metadata"
   ]
  }
 ],
 "metadata": {
  "kernelspec": {
   "display_name": "venv",
   "language": "python",
   "name": "python3"
  },
  "language_info": {
   "codemirror_mode": {
    "name": "ipython",
    "version": 3
   },
   "file_extension": ".py",
   "mimetype": "text/x-python",
   "name": "python",
   "nbconvert_exporter": "python",
   "pygments_lexer": "ipython3",
   "version": "3.12.3"
  }
 },
 "nbformat": 4,
 "nbformat_minor": 2
}
