{
 "cells": [
  {
   "cell_type": "code",
   "execution_count": 4,
   "metadata": {},
   "outputs": [],
   "source": [
    "import os\n",
    "from dotenv import load_dotenv\n",
    "from langchain_openai import ChatOpenAI\n"
   ]
  },
  {
   "cell_type": "code",
   "execution_count": 5,
   "metadata": {},
   "outputs": [
    {
     "name": "stdout",
     "output_type": "stream",
     "text": [
      "True\n"
     ]
    }
   ],
   "source": [
    "api_key = os.getenv('OPENAI_API_KEY')\n",
    "\n",
    "print(api_key is not None)"
   ]
  },
  {
   "cell_type": "code",
   "execution_count": 6,
   "metadata": {},
   "outputs": [],
   "source": [
    "chat = ChatOpenAI(\n",
    "    model = 'gpt-4o-mini'\n",
    ")"
   ]
  },
  {
   "cell_type": "code",
   "execution_count": 7,
   "metadata": {},
   "outputs": [],
   "source": [
    "from langchain.schema import SystemMessage, HumanMessage, AIMessage\n",
    "\n",
    "message = [\n",
    "    SystemMessage(content=\"Você é um assistente especializado em games, principalmente em FPS\"),\n",
    "    HumanMessage(content=\"Qual o melhor jogo de tiro em primeira pessoa?\"),\n",
    "    AIMessage(content=\"O melhor jogo de tiro em primeira pessoa é o Counter-Strike 2\"),\n",
    "    HumanMessage(content=\"Por que você acha isso?\"),\n",
    "]"
   ]
  },
  {
   "cell_type": "code",
   "execution_count": 8,
   "metadata": {},
   "outputs": [
    {
     "data": {
      "text/plain": [
       "AIMessage(content='Counter-Strike 2 é considerado um dos melhores jogos de tiro em primeira pessoa por várias razões:\\n\\n1. **Competitividade**: O jogo é altamente competitivo, com uma comunidade ativa e torneios profissionais, o que atrai jogadores que buscam desafios e aprimoramento contínuo.\\n\\n2. **Jogabilidade Tática**: CS2 enfatiza a estratégia e a comunicação em equipe. Os jogadores precisam trabalhar juntos para derrotar o time adversário, o que torna cada partida única e envolvente.\\n\\n3. **Mecânicas Aprofundadas**: O jogo tem mecânicas de tiro muito bem desenvolvidas, como o controle de recuo, o que exige habilidade e prática para dominar.\\n\\n4. **Atualizações e Suporte**: A série Counter-Strike tem uma longa história de atualizações e suporte contínuo, que mantêm o jogo fresco e corrigem problemas de balanceamento.\\n\\n5. **Acessibilidade**: CS2 é relativamente acessível em termos de requisitos de hardware, permitindo que um grande número de jogadores consiga rodá-lo em suas máquinas.\\n\\n6. **Cultura e Comunidade**: A comunidade de CS é uma das mais dedicadas e apaixonadas do mundo dos jogos, o que cria um ambiente vibrante e engajador.\\n\\nEsses fatores, combinados com sua popularidade duradoura, fazem de Counter-Strike 2 uma escolha frequente como um dos melhores jogos de tiro em primeira pessoa. No entanto, é importante lembrar que \"melhor\" pode variar dependendo das preferências pessoais do jogador, e outros títulos como Call of Duty, Battlefield e Apex Legends também têm suas qualidades únicas.', additional_kwargs={'refusal': None}, response_metadata={'token_usage': {'completion_tokens': 338, 'prompt_tokens': 62, 'total_tokens': 400, 'completion_tokens_details': {'accepted_prediction_tokens': 0, 'audio_tokens': 0, 'reasoning_tokens': 0, 'rejected_prediction_tokens': 0}, 'prompt_tokens_details': {'audio_tokens': 0, 'cached_tokens': 0}}, 'model_name': 'gpt-4o-mini-2024-07-18', 'system_fingerprint': 'fp_0aa8d3e20b', 'finish_reason': 'stop', 'logprobs': None}, id='run-0f44c143-214e-4247-88a8-fa615bc4c146-0', usage_metadata={'input_tokens': 62, 'output_tokens': 338, 'total_tokens': 400, 'input_token_details': {'audio': 0, 'cache_read': 0}, 'output_token_details': {'audio': 0, 'reasoning': 0}})"
      ]
     },
     "execution_count": 8,
     "metadata": {},
     "output_type": "execute_result"
    }
   ],
   "source": [
    "res = chat.invoke(message)\n",
    "res"
   ]
  },
  {
   "cell_type": "code",
   "execution_count": 9,
   "metadata": {},
   "outputs": [
    {
     "name": "stdout",
     "output_type": "stream",
     "text": [
      "Counter-Strike 2 é considerado um dos melhores jogos de tiro em primeira pessoa por várias razões:\n",
      "\n",
      "1. **Competitividade**: O jogo é altamente competitivo, com uma comunidade ativa e torneios profissionais, o que atrai jogadores que buscam desafios e aprimoramento contínuo.\n",
      "\n",
      "2. **Jogabilidade Tática**: CS2 enfatiza a estratégia e a comunicação em equipe. Os jogadores precisam trabalhar juntos para derrotar o time adversário, o que torna cada partida única e envolvente.\n",
      "\n",
      "3. **Mecânicas Aprofundadas**: O jogo tem mecânicas de tiro muito bem desenvolvidas, como o controle de recuo, o que exige habilidade e prática para dominar.\n",
      "\n",
      "4. **Atualizações e Suporte**: A série Counter-Strike tem uma longa história de atualizações e suporte contínuo, que mantêm o jogo fresco e corrigem problemas de balanceamento.\n",
      "\n",
      "5. **Acessibilidade**: CS2 é relativamente acessível em termos de requisitos de hardware, permitindo que um grande número de jogadores consiga rodá-lo em suas máquinas.\n",
      "\n",
      "6. **Cultura e Comunidade**: A comunidade de CS é uma das mais dedicadas e apaixonadas do mundo dos jogos, o que cria um ambiente vibrante e engajador.\n",
      "\n",
      "Esses fatores, combinados com sua popularidade duradoura, fazem de Counter-Strike 2 uma escolha frequente como um dos melhores jogos de tiro em primeira pessoa. No entanto, é importante lembrar que \"melhor\" pode variar dependendo das preferências pessoais do jogador, e outros títulos como Call of Duty, Battlefield e Apex Legends também têm suas qualidades únicas.\n"
     ]
    }
   ],
   "source": [
    "print(res.content)"
   ]
  },
  {
   "cell_type": "code",
   "execution_count": 10,
   "metadata": {},
   "outputs": [],
   "source": [
    "message.append(res)"
   ]
  },
  {
   "cell_type": "code",
   "execution_count": 11,
   "metadata": {},
   "outputs": [
    {
     "data": {
      "text/plain": [
       "[SystemMessage(content='Você é um assistente especializado em games, principalmente em FPS', additional_kwargs={}, response_metadata={}),\n",
       " HumanMessage(content='Qual o melhor jogo de tiro em primeira pessoa?', additional_kwargs={}, response_metadata={}),\n",
       " AIMessage(content='O melhor jogo de tiro em primeira pessoa é o Counter-Strike 2', additional_kwargs={}, response_metadata={}),\n",
       " HumanMessage(content='Por que você acha isso?', additional_kwargs={}, response_metadata={}),\n",
       " AIMessage(content='Counter-Strike 2 é considerado um dos melhores jogos de tiro em primeira pessoa por várias razões:\\n\\n1. **Competitividade**: O jogo é altamente competitivo, com uma comunidade ativa e torneios profissionais, o que atrai jogadores que buscam desafios e aprimoramento contínuo.\\n\\n2. **Jogabilidade Tática**: CS2 enfatiza a estratégia e a comunicação em equipe. Os jogadores precisam trabalhar juntos para derrotar o time adversário, o que torna cada partida única e envolvente.\\n\\n3. **Mecânicas Aprofundadas**: O jogo tem mecânicas de tiro muito bem desenvolvidas, como o controle de recuo, o que exige habilidade e prática para dominar.\\n\\n4. **Atualizações e Suporte**: A série Counter-Strike tem uma longa história de atualizações e suporte contínuo, que mantêm o jogo fresco e corrigem problemas de balanceamento.\\n\\n5. **Acessibilidade**: CS2 é relativamente acessível em termos de requisitos de hardware, permitindo que um grande número de jogadores consiga rodá-lo em suas máquinas.\\n\\n6. **Cultura e Comunidade**: A comunidade de CS é uma das mais dedicadas e apaixonadas do mundo dos jogos, o que cria um ambiente vibrante e engajador.\\n\\nEsses fatores, combinados com sua popularidade duradoura, fazem de Counter-Strike 2 uma escolha frequente como um dos melhores jogos de tiro em primeira pessoa. No entanto, é importante lembrar que \"melhor\" pode variar dependendo das preferências pessoais do jogador, e outros títulos como Call of Duty, Battlefield e Apex Legends também têm suas qualidades únicas.', additional_kwargs={'refusal': None}, response_metadata={'token_usage': {'completion_tokens': 338, 'prompt_tokens': 62, 'total_tokens': 400, 'completion_tokens_details': {'accepted_prediction_tokens': 0, 'audio_tokens': 0, 'reasoning_tokens': 0, 'rejected_prediction_tokens': 0}, 'prompt_tokens_details': {'audio_tokens': 0, 'cached_tokens': 0}}, 'model_name': 'gpt-4o-mini-2024-07-18', 'system_fingerprint': 'fp_0aa8d3e20b', 'finish_reason': 'stop', 'logprobs': None}, id='run-0f44c143-214e-4247-88a8-fa615bc4c146-0', usage_metadata={'input_tokens': 62, 'output_tokens': 338, 'total_tokens': 400, 'input_token_details': {'audio': 0, 'cache_read': 0}, 'output_token_details': {'audio': 0, 'reasoning': 0}})]"
      ]
     },
     "execution_count": 11,
     "metadata": {},
     "output_type": "execute_result"
    }
   ],
   "source": [
    "message"
   ]
  },
  {
   "cell_type": "code",
   "execution_count": 12,
   "metadata": {},
   "outputs": [],
   "source": [
    "prompt = HumanMessage(content=\"Qual a diferença entre CSGO e CS2\")\n",
    "message.append(prompt)"
   ]
  },
  {
   "cell_type": "code",
   "execution_count": 13,
   "metadata": {},
   "outputs": [
    {
     "name": "stdout",
     "output_type": "stream",
     "text": [
      "Counter-Strike 2 (CS2) é a sequência de Counter-Strike: Global Offensive (CS:GO) e introduz várias melhorias e mudanças significativas. Aqui estão algumas das principais diferenças entre os dois jogos:\n",
      "\n",
      "1. **Gráficos e Motor**: CS2 utiliza o motor Source 2, que oferece gráficos melhorados, efeitos visuais mais avançados e uma física mais realista. Isso resulta em ambientes mais detalhados e uma experiência visual mais imersiva.\n",
      "\n",
      "2. **Atualizações de Mapas**: Muitos mapas clássicos foram reformulados em CS2, com melhorias de design e visuais. Além disso, a maneira como os mapas são apresentados e interagem com o jogador foi aprimorada.\n",
      "\n",
      "3. **Sistema de Smoke Grenades**: O sistema de granadas de fumaça foi atualizado, permitindo que a fumaça se comporte de maneira mais dinâmica e interativa, como se espalhar e reagir ao ambiente, além de permitir que os jogadores vejam através da fumaça em algumas condições.\n",
      "\n",
      "4. **Interface e HUD**: CS2 apresenta uma interface de usuário e HUD (Heads-Up Display) atualizados, com informações mais claras e acessíveis para os jogadores, melhorando a experiência geral.\n",
      "\n",
      "5. **Mudanças de Gameplay**: Embora a essência do gameplay permaneça a mesma, algumas mecânicas de movimentação e comportamento de armas podem ter sido ajustadas, visando melhorar a fluidez e a acessibilidade do jogo.\n",
      "\n",
      "6. **Inteligência Artificial (IA)**: O jogo pode incluir melhorias na IA, tanto para bots quanto para a detecção de trapaças, proporcionando uma experiência mais justa e equilibrada.\n",
      "\n",
      "7. **Foco em Comunidade e Conteúdo**: CS2 também traz um foco maior em permitir que a comunidade crie e compartilhe conteúdo, como skins e mapas, seguindo a tradição de personalização que caracteriza a série.\n",
      "\n",
      "Essas mudanças visam modernizar a experiência de Counter-Strike, enquanto mantêm a essência que fez da franquia um sucesso duradouro. É importante observar que a transição de CS:GO para CS2 foi projetada para agradar tanto os novos jogadores quanto os veteranos da série.\n"
     ]
    }
   ],
   "source": [
    "res = chat.invoke(message)\n",
    "print(res.content)"
   ]
  },
  {
   "cell_type": "markdown",
   "metadata": {},
   "source": [
    "*Hallucination*"
   ]
  },
  {
   "cell_type": "code",
   "execution_count": 14,
   "metadata": {},
   "outputs": [
    {
     "name": "stdout",
     "output_type": "stream",
     "text": [
      "Até a minha última atualização, em outubro de 2023, o primeiro grande campeonato de Counter-Strike 2, o IEM (Intel Extreme Masters) 2023, foi vencido pela equipe **Heroic**. Eles derrotaram a **G2 Esports** na final. Para informações mais recentes ou detalhes sobre futuros campeonatos, recomendo verificar fontes confiáveis de notícias sobre esports ou plataformas de streaming que cobrem eventos de CS2.\n"
     ]
    }
   ],
   "source": [
    "message.append(res)\n",
    "\n",
    "prompt = HumanMessage(content=\"Qual foi o time campẽao do último campeonato de CS2?\")\n",
    "\n",
    "message.append(prompt)\n",
    "\n",
    "res = chat.invoke(message)\n",
    "\n",
    "print(res.content)"
   ]
  },
  {
   "cell_type": "markdown",
   "metadata": {},
   "source": [
    "*Context injection*"
   ]
  },
  {
   "cell_type": "code",
   "execution_count": 15,
   "metadata": {},
   "outputs": [],
   "source": [
    "cs2_champions_information = [\n",
    "    \" The most recent team to win a Counter-Strike 2 (CS2) Major was Team Spirit, which triumphed at the Perfect World Shanghai Major 2024, held from December 1 to 15, 2024. In the final, Team Spirit faced FaZe Clan, winning 2-1 in a thrilling series. Team Spirit player donk stood out by being named the tournament Most Valuable Player (MVP), becoming the youngest player to receive this honor in a Counter-Strike Major.\",\n",
    "    \n",
    "    \"Before this event, Natus Vincere (NAVI) claimed the first CS2 Major title at the PGL Major Copenhagen 2024, held from March 17 to 31, 2024, by defeating FaZe Clan in the grand final.\",\n",
    "\n",
    "    \"Astralis remains the organization with the most Major titles, totaling four championships. 0\"\n",
    "]\n",
    "\n",
    "source_knowledge = \"\\n\".join(cs2_champions_information)"
   ]
  },
  {
   "cell_type": "code",
   "execution_count": 16,
   "metadata": {},
   "outputs": [],
   "source": [
    "query = \"Você sabe quem foi o campeão do último campeonato de CS2?\"\n",
    "\n",
    "augmented_prompt = f\"\"\"Use o contexto abaixo para responder a seguinte pergunta:\n",
    "\n",
    "Contexto: {source_knowledge}\n",
    "\n",
    "Pergunta: {query}\n",
    "\n",
    "\"\"\""
   ]
  },
  {
   "cell_type": "code",
   "execution_count": 17,
   "metadata": {},
   "outputs": [
    {
     "name": "stdout",
     "output_type": "stream",
     "text": [
      "Sim, o campeão do último campeonato de Counter-Strike 2 foi a Team Spirit, que venceu o Perfect World Shanghai Major 2024, derrotando a FaZe Clan na final por 2-1.\n"
     ]
    }
   ],
   "source": [
    "prompt = HumanMessage(\n",
    "    content=augmented_prompt\n",
    ")\n",
    "\n",
    "message.append(prompt)\n",
    "\n",
    "res = chat.invoke(message)\n",
    "print(res.content)"
   ]
  },
  {
   "cell_type": "markdown",
   "metadata": {},
   "source": [
    "*Embeddings*"
   ]
  },
  {
   "cell_type": "code",
   "execution_count": 18,
   "metadata": {},
   "outputs": [],
   "source": [
    "from langchain_openai import OpenAIEmbeddings\n",
    "embed_model = OpenAIEmbeddings(model=\"text-embedding-3-small\")"
   ]
  },
  {
   "cell_type": "code",
   "execution_count": 19,
   "metadata": {},
   "outputs": [
    {
     "data": {
      "text/plain": [
       "(2, 1536)"
      ]
     },
     "execution_count": 19,
     "metadata": {},
     "output_type": "execute_result"
    }
   ],
   "source": [
    "texts = [\n",
    "    'this is a test',\n",
    "    'this is another test',\n",
    "]\n",
    "\n",
    "res = embed_model.embed_documents(texts)\n",
    "len(res), len(res[0])"
   ]
  },
  {
   "cell_type": "markdown",
   "metadata": {},
   "source": [
    "*RAG*"
   ]
  },
  {
   "cell_type": "code",
   "execution_count": 20,
   "metadata": {},
   "outputs": [
    {
     "name": "stderr",
     "output_type": "stream",
     "text": [
      "/home/phael/Chatbot_RAG/venv/lib/python3.12/site-packages/tqdm/auto.py:21: TqdmWarning: IProgress not found. Please update jupyter and ipywidgets. See https://ipywidgets.readthedocs.io/en/stable/user_install.html\n",
      "  from .autonotebook import tqdm as notebook_tqdm\n"
     ]
    },
    {
     "data": {
      "text/plain": [
       "Dataset({\n",
       "    features: ['text'],\n",
       "    num_rows: 1373\n",
       "})"
      ]
     },
     "execution_count": 20,
     "metadata": {},
     "output_type": "execute_result"
    }
   ],
   "source": [
    "from datasets import load_dataset\n",
    "dataset = load_dataset(\"assafm/counter-strike-001\", split=\"train\")\n",
    "dataset"
   ]
  },
  {
   "cell_type": "code",
   "execution_count": 21,
   "metadata": {},
   "outputs": [
    {
     "data": {
      "text/plain": [
       "{'text': '<s>[INST] What are the different types of ammunition featured in the Counter-Strike series? [/INST] Pistol, rifle, shotgun, and heavy ammunition </s>'}"
      ]
     },
     "execution_count": 21,
     "metadata": {},
     "output_type": "execute_result"
    }
   ],
   "source": [
    "dataset[0]"
   ]
  },
  {
   "cell_type": "code",
   "execution_count": 22,
   "metadata": {},
   "outputs": [
    {
     "data": {
      "text/html": [
       "<div>\n",
       "<style scoped>\n",
       "    .dataframe tbody tr th:only-of-type {\n",
       "        vertical-align: middle;\n",
       "    }\n",
       "\n",
       "    .dataframe tbody tr th {\n",
       "        vertical-align: top;\n",
       "    }\n",
       "\n",
       "    .dataframe thead th {\n",
       "        text-align: right;\n",
       "    }\n",
       "</style>\n",
       "<table border=\"1\" class=\"dataframe\">\n",
       "  <thead>\n",
       "    <tr style=\"text-align: right;\">\n",
       "      <th></th>\n",
       "      <th>text</th>\n",
       "    </tr>\n",
       "  </thead>\n",
       "  <tbody>\n",
       "    <tr>\n",
       "      <th>0</th>\n",
       "      <td>&lt;s&gt;[INST] What are the different types of ammu...</td>\n",
       "    </tr>\n",
       "    <tr>\n",
       "      <th>1</th>\n",
       "      <td>&lt;s&gt;[INST] What is the simplest way to gauge th...</td>\n",
       "    </tr>\n",
       "    <tr>\n",
       "      <th>2</th>\n",
       "      <td>&lt;s&gt;[INST] How do players purchase ammunition i...</td>\n",
       "    </tr>\n",
       "    <tr>\n",
       "      <th>3</th>\n",
       "      <td>&lt;s&gt;[INST] When do players receive full ammo fo...</td>\n",
       "    </tr>\n",
       "    <tr>\n",
       "      <th>4</th>\n",
       "      <td>&lt;s&gt;[INST] Can players keep the reserve ammo wh...</td>\n",
       "    </tr>\n",
       "  </tbody>\n",
       "</table>\n",
       "</div>"
      ],
      "text/plain": [
       "                                                text\n",
       "0  <s>[INST] What are the different types of ammu...\n",
       "1  <s>[INST] What is the simplest way to gauge th...\n",
       "2  <s>[INST] How do players purchase ammunition i...\n",
       "3  <s>[INST] When do players receive full ammo fo...\n",
       "4  <s>[INST] Can players keep the reserve ammo wh..."
      ]
     },
     "execution_count": 22,
     "metadata": {},
     "output_type": "execute_result"
    }
   ],
   "source": [
    "data = dataset.to_pandas()\n",
    "data.head()"
   ]
  },
  {
   "cell_type": "code",
   "execution_count": 23,
   "metadata": {},
   "outputs": [
    {
     "data": {
      "text/html": [
       "<div>\n",
       "<style scoped>\n",
       "    .dataframe tbody tr th:only-of-type {\n",
       "        vertical-align: middle;\n",
       "    }\n",
       "\n",
       "    .dataframe tbody tr th {\n",
       "        vertical-align: top;\n",
       "    }\n",
       "\n",
       "    .dataframe thead th {\n",
       "        text-align: right;\n",
       "    }\n",
       "</style>\n",
       "<table border=\"1\" class=\"dataframe\">\n",
       "  <thead>\n",
       "    <tr style=\"text-align: right;\">\n",
       "      <th></th>\n",
       "      <th>text</th>\n",
       "    </tr>\n",
       "  </thead>\n",
       "  <tbody>\n",
       "    <tr>\n",
       "      <th>0</th>\n",
       "      <td>&lt;s&gt;[INST] What are the different types of ammu...</td>\n",
       "    </tr>\n",
       "    <tr>\n",
       "      <th>1</th>\n",
       "      <td>&lt;s&gt;[INST] What is the simplest way to gauge th...</td>\n",
       "    </tr>\n",
       "    <tr>\n",
       "      <th>2</th>\n",
       "      <td>&lt;s&gt;[INST] How do players purchase ammunition i...</td>\n",
       "    </tr>\n",
       "    <tr>\n",
       "      <th>3</th>\n",
       "      <td>&lt;s&gt;[INST] When do players receive full ammo fo...</td>\n",
       "    </tr>\n",
       "    <tr>\n",
       "      <th>4</th>\n",
       "      <td>&lt;s&gt;[INST] Can players keep the reserve ammo wh...</td>\n",
       "    </tr>\n",
       "  </tbody>\n",
       "</table>\n",
       "</div>"
      ],
      "text/plain": [
       "                                                text\n",
       "0  <s>[INST] What are the different types of ammu...\n",
       "1  <s>[INST] What is the simplest way to gauge th...\n",
       "2  <s>[INST] How do players purchase ammunition i...\n",
       "3  <s>[INST] When do players receive full ammo fo...\n",
       "4  <s>[INST] Can players keep the reserve ammo wh..."
      ]
     },
     "execution_count": 23,
     "metadata": {},
     "output_type": "execute_result"
    }
   ],
   "source": [
    "docs = data[['text']]\n",
    "docs.head()"
   ]
  },
  {
   "cell_type": "code",
   "execution_count": 24,
   "metadata": {},
   "outputs": [],
   "source": [
    "from langchain_community.document_loaders import DataFrameLoader\n",
    "\n",
    "loader = DataFrameLoader(docs, page_content_column='text')\n",
    "documents = loader.load()"
   ]
  },
  {
   "cell_type": "code",
   "execution_count": 25,
   "metadata": {},
   "outputs": [
    {
     "data": {
      "text/plain": [
       "Document(metadata={}, page_content='<s>[INST] What are the different types of ammunition featured in the Counter-Strike series? [/INST] Pistol, rifle, shotgun, and heavy ammunition </s>')"
      ]
     },
     "execution_count": 25,
     "metadata": {},
     "output_type": "execute_result"
    }
   ],
   "source": [
    "documents[0]"
   ]
  },
  {
   "cell_type": "code",
   "execution_count": 26,
   "metadata": {},
   "outputs": [
    {
     "data": {
      "text/plain": [
       "'<s>[INST] What are the different types of ammunition featured in the Counter-Strike series? [/INST] Pistol, rifle, shotgun, and heavy ammunition </s>'"
      ]
     },
     "execution_count": 26,
     "metadata": {},
     "output_type": "execute_result"
    }
   ],
   "source": [
    "documents[0].page_content"
   ]
  },
  {
   "cell_type": "code",
   "execution_count": 27,
   "metadata": {},
   "outputs": [
    {
     "data": {
      "text/plain": [
       "{}"
      ]
     },
     "execution_count": 27,
     "metadata": {},
     "output_type": "execute_result"
    }
   ],
   "source": [
    "documents[0].metadata"
   ]
  },
  {
   "cell_type": "code",
   "execution_count": 29,
   "metadata": {},
   "outputs": [],
   "source": [
    "from langchain_community.vectorstores import Qdrant\n",
    "from langchain_openai import OpenAIEmbeddings\n",
    "embeddings = OpenAIEmbeddings(model=\"text-embedding-3-small\")\n",
    "\n",
    "qdrant = Qdrant.from_documents(\n",
    "    documents = documents,\n",
    "    embedding = embeddings,\n",
    "    location=\":memory:\",\n",
    "    collection_name=\"chatbot\"\n",
    ")"
   ]
  },
  {
   "cell_type": "code",
   "execution_count": null,
   "metadata": {},
   "outputs": [],
   "source": []
  }
 ],
 "metadata": {
  "kernelspec": {
   "display_name": "venv",
   "language": "python",
   "name": "python3"
  },
  "language_info": {
   "codemirror_mode": {
    "name": "ipython",
    "version": 3
   },
   "file_extension": ".py",
   "mimetype": "text/x-python",
   "name": "python",
   "nbconvert_exporter": "python",
   "pygments_lexer": "ipython3",
   "version": "3.12.3"
  }
 },
 "nbformat": 4,
 "nbformat_minor": 2
}
