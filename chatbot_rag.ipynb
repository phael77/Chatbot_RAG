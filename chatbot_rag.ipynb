{
 "cells": [
  {
   "cell_type": "code",
   "execution_count": 10,
   "metadata": {},
   "outputs": [],
   "source": [
    "import os\n",
    "from dotenv import load_dotenv\n",
    "from langchain_openai import ChatOpenAI\n"
   ]
  },
  {
   "cell_type": "code",
   "execution_count": 11,
   "metadata": {},
   "outputs": [
    {
     "name": "stdout",
     "output_type": "stream",
     "text": [
      "True\n"
     ]
    }
   ],
   "source": [
    "api_key = os.getenv('OPENAI_API_KEY')\n",
    "\n",
    "print(api_key is not None)"
   ]
  },
  {
   "cell_type": "code",
   "execution_count": 12,
   "metadata": {},
   "outputs": [],
   "source": [
    "chat = ChatOpenAI(\n",
    "    model = 'gpt-4o-mini'\n",
    ")"
   ]
  },
  {
   "cell_type": "code",
   "execution_count": 13,
   "metadata": {},
   "outputs": [],
   "source": [
    "from langchain.schema import SystemMessage, HumanMessage, AIMessage\n",
    "\n",
    "message = [\n",
    "    SystemMessage(content=\"Você é um assistente especializado em games, principalmente em FPS\"),\n",
    "    HumanMessage(content=\"Qual o melhor jogo de tiro em primeira pessoa?\"),\n",
    "    AIMessage(content=\"O melhor jogo de tiro em primeira pessoa é o Counter-Strike 2\"),\n",
    "    HumanMessage(content=\"Por que você acha isso?\"),\n",
    "]"
   ]
  },
  {
   "cell_type": "code",
   "execution_count": 14,
   "metadata": {},
   "outputs": [
    {
     "data": {
      "text/plain": [
       "AIMessage(content='Counter-Strike 2 é frequentemente considerado um dos melhores jogos de tiro em primeira pessoa por várias razões:\\n\\n1. **Competitividade**: O jogo é altamente competitivo, com uma forte ênfase em táticas, trabalho em equipe e habilidade individual. Isso atrai muitos jogadores que buscam um desafio.\\n\\n2. **Comunidade**: A franquia Counter-Strike tem uma das comunidades mais antigas e engajadas no mundo dos jogos. Isso resulta em uma base de jogadores ativa e em constantes atualizações e suporte do desenvolvedor.\\n\\n3. **E-sports**: Counter-Strike 2 tem uma cena de e-sports robusta, com torneios de alto nível que atraem grandes audiências. Isso ajuda a manter o interesse no jogo e oferece oportunidades para jogadores se destacarem.\\n\\n4. **Jogabilidade**: O jogo possui uma jogabilidade fluida e precisa, com um sistema de armas bem equilibrado. A mecânica de tiro é elogiada pela sua realismo e pela necessidade de habilidade para dominar.\\n\\n5. **Mapas e Modos de Jogo**: A variedade de mapas e modos de jogo mantém a experiência fresca e interessante. Desde o clássico \"Bomb Defusal\" até modos mais inovadores, há sempre algo novo para experimentar.\\n\\n6. **Acessibilidade**: Counter-Strike 2 é relativamente acessível em termos de requisitos de sistema, permitindo que um grande número de jogadores entre no jogo.\\n\\nEmbora existam muitos outros FPS excelentes, como Call of Duty, Apex Legends e Battlefield, Counter-Strike 2 se destaca por sua combinação de habilidade, estratégia e comunidade. No entanto, a escolha do \"melhor\" jogo pode variar bastante de acordo com as preferências pessoais de cada jogador!', additional_kwargs={'refusal': None}, response_metadata={'token_usage': {'completion_tokens': 356, 'prompt_tokens': 62, 'total_tokens': 418, 'completion_tokens_details': {'accepted_prediction_tokens': 0, 'audio_tokens': 0, 'reasoning_tokens': 0, 'rejected_prediction_tokens': 0}, 'prompt_tokens_details': {'audio_tokens': 0, 'cached_tokens': 0}}, 'model_name': 'gpt-4o-mini-2024-07-18', 'system_fingerprint': 'fp_0aa8d3e20b', 'finish_reason': 'stop', 'logprobs': None}, id='run-7e8f4d49-d0c2-403a-906e-90c8802983c4-0', usage_metadata={'input_tokens': 62, 'output_tokens': 356, 'total_tokens': 418, 'input_token_details': {'audio': 0, 'cache_read': 0}, 'output_token_details': {'audio': 0, 'reasoning': 0}})"
      ]
     },
     "execution_count": 14,
     "metadata": {},
     "output_type": "execute_result"
    }
   ],
   "source": [
    "res = chat.invoke(message)\n",
    "res"
   ]
  },
  {
   "cell_type": "code",
   "execution_count": 15,
   "metadata": {},
   "outputs": [
    {
     "name": "stdout",
     "output_type": "stream",
     "text": [
      "Counter-Strike 2 é frequentemente considerado um dos melhores jogos de tiro em primeira pessoa por várias razões:\n",
      "\n",
      "1. **Competitividade**: O jogo é altamente competitivo, com uma forte ênfase em táticas, trabalho em equipe e habilidade individual. Isso atrai muitos jogadores que buscam um desafio.\n",
      "\n",
      "2. **Comunidade**: A franquia Counter-Strike tem uma das comunidades mais antigas e engajadas no mundo dos jogos. Isso resulta em uma base de jogadores ativa e em constantes atualizações e suporte do desenvolvedor.\n",
      "\n",
      "3. **E-sports**: Counter-Strike 2 tem uma cena de e-sports robusta, com torneios de alto nível que atraem grandes audiências. Isso ajuda a manter o interesse no jogo e oferece oportunidades para jogadores se destacarem.\n",
      "\n",
      "4. **Jogabilidade**: O jogo possui uma jogabilidade fluida e precisa, com um sistema de armas bem equilibrado. A mecânica de tiro é elogiada pela sua realismo e pela necessidade de habilidade para dominar.\n",
      "\n",
      "5. **Mapas e Modos de Jogo**: A variedade de mapas e modos de jogo mantém a experiência fresca e interessante. Desde o clássico \"Bomb Defusal\" até modos mais inovadores, há sempre algo novo para experimentar.\n",
      "\n",
      "6. **Acessibilidade**: Counter-Strike 2 é relativamente acessível em termos de requisitos de sistema, permitindo que um grande número de jogadores entre no jogo.\n",
      "\n",
      "Embora existam muitos outros FPS excelentes, como Call of Duty, Apex Legends e Battlefield, Counter-Strike 2 se destaca por sua combinação de habilidade, estratégia e comunidade. No entanto, a escolha do \"melhor\" jogo pode variar bastante de acordo com as preferências pessoais de cada jogador!\n"
     ]
    }
   ],
   "source": [
    "print(res.content)"
   ]
  },
  {
   "cell_type": "code",
   "execution_count": null,
   "metadata": {},
   "outputs": [],
   "source": [
    "messages"
   ]
  }
 ],
 "metadata": {
  "kernelspec": {
   "display_name": "venv",
   "language": "python",
   "name": "python3"
  },
  "language_info": {
   "codemirror_mode": {
    "name": "ipython",
    "version": 3
   },
   "file_extension": ".py",
   "mimetype": "text/x-python",
   "name": "python",
   "nbconvert_exporter": "python",
   "pygments_lexer": "ipython3",
   "version": "3.12.3"
  }
 },
 "nbformat": 4,
 "nbformat_minor": 2
}
