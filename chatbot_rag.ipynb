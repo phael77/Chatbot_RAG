{
 "cells": [
  {
   "cell_type": "code",
   "execution_count": 17,
   "metadata": {},
   "outputs": [],
   "source": [
    "import os\n",
    "from dotenv import load_dotenv\n",
    "from langchain_openai import ChatOpenAI\n"
   ]
  },
  {
   "cell_type": "code",
   "execution_count": 18,
   "metadata": {},
   "outputs": [
    {
     "name": "stdout",
     "output_type": "stream",
     "text": [
      "True\n"
     ]
    }
   ],
   "source": [
    "api_key = os.getenv('OPENAI_API_KEY')\n",
    "\n",
    "print(api_key is not None)"
   ]
  },
  {
   "cell_type": "code",
   "execution_count": 19,
   "metadata": {},
   "outputs": [],
   "source": [
    "chat = ChatOpenAI(\n",
    "    model = 'gpt-4o-mini'\n",
    ")"
   ]
  },
  {
   "cell_type": "code",
   "execution_count": 20,
   "metadata": {},
   "outputs": [],
   "source": [
    "from langchain.schema import SystemMessage, HumanMessage, AIMessage\n",
    "\n",
    "message = [\n",
    "    SystemMessage(content=\"Você é um assistente especializado em games, principalmente em FPS\"),\n",
    "    HumanMessage(content=\"Qual o melhor jogo de tiro em primeira pessoa?\"),\n",
    "    AIMessage(content=\"O melhor jogo de tiro em primeira pessoa é o Counter-Strike 2\"),\n",
    "    HumanMessage(content=\"Por que você acha isso?\"),\n",
    "]"
   ]
  },
  {
   "cell_type": "code",
   "execution_count": 21,
   "metadata": {},
   "outputs": [
    {
     "data": {
      "text/plain": [
       "AIMessage(content='Counter-Strike 2 é frequentemente considerado um dos melhores jogos de tiro em primeira pessoa por várias razões:\\n\\n1. **Competitividade**: O jogo tem uma das cenas competitivas mais estabelecidas e respeitadas do mundo dos esports. Ligas e torneios, como o ESL e o Major Championship, atraem equipes de alto nível e grandes audiências.\\n\\n2. **Jogabilidade**: A mecânica de tiro é altamente refinada, com um foco em precisão e habilidade. O sistema de economia do jogo também adiciona uma camada estratégica que exige planejamento e trabalho em equipe.\\n\\n3. **Comunidade**: A base de jogadores é enorme e ativa, o que garante partidas consistentes e uma variedade de modos de jogo. A comunidade também contribui com mods e mapas, mantendo o jogo fresco.\\n\\n4. **Acessibilidade**: O jogo é relativamente fácil de aprender, mas difícil de dominar, o que atrai tanto novatos quanto jogadores experientes.\\n\\n5. **Atualizações e Suporte**: A Valve, desenvolvedora do jogo, continua a oferecer suporte e atualizações, garantindo que o jogo permaneça relevante e balanceado.\\n\\nEmbora existam outros excelentes jogos de tiro em primeira pessoa, como Call of Duty, Battlefield e Apex Legends, Counter-Strike 2 se destaca especialmente por sua profundidade competitiva e legado duradouro no gênero. A preferência pode variar de acordo com o gosto pessoal e o estilo de jogo, mas Counter-Strike 2 é, sem dúvida, um dos maiores clássicos.', additional_kwargs={'refusal': None}, response_metadata={'token_usage': {'completion_tokens': 313, 'prompt_tokens': 62, 'total_tokens': 375, 'completion_tokens_details': {'accepted_prediction_tokens': 0, 'audio_tokens': 0, 'reasoning_tokens': 0, 'rejected_prediction_tokens': 0}, 'prompt_tokens_details': {'audio_tokens': 0, 'cached_tokens': 0}}, 'model_name': 'gpt-4o-mini-2024-07-18', 'system_fingerprint': 'fp_0aa8d3e20b', 'finish_reason': 'stop', 'logprobs': None}, id='run-ee5173c9-c3bf-42ba-b327-f866f4688bbf-0', usage_metadata={'input_tokens': 62, 'output_tokens': 313, 'total_tokens': 375, 'input_token_details': {'audio': 0, 'cache_read': 0}, 'output_token_details': {'audio': 0, 'reasoning': 0}})"
      ]
     },
     "execution_count": 21,
     "metadata": {},
     "output_type": "execute_result"
    }
   ],
   "source": [
    "res = chat.invoke(message)\n",
    "res"
   ]
  },
  {
   "cell_type": "code",
   "execution_count": 22,
   "metadata": {},
   "outputs": [
    {
     "name": "stdout",
     "output_type": "stream",
     "text": [
      "Counter-Strike 2 é frequentemente considerado um dos melhores jogos de tiro em primeira pessoa por várias razões:\n",
      "\n",
      "1. **Competitividade**: O jogo tem uma das cenas competitivas mais estabelecidas e respeitadas do mundo dos esports. Ligas e torneios, como o ESL e o Major Championship, atraem equipes de alto nível e grandes audiências.\n",
      "\n",
      "2. **Jogabilidade**: A mecânica de tiro é altamente refinada, com um foco em precisão e habilidade. O sistema de economia do jogo também adiciona uma camada estratégica que exige planejamento e trabalho em equipe.\n",
      "\n",
      "3. **Comunidade**: A base de jogadores é enorme e ativa, o que garante partidas consistentes e uma variedade de modos de jogo. A comunidade também contribui com mods e mapas, mantendo o jogo fresco.\n",
      "\n",
      "4. **Acessibilidade**: O jogo é relativamente fácil de aprender, mas difícil de dominar, o que atrai tanto novatos quanto jogadores experientes.\n",
      "\n",
      "5. **Atualizações e Suporte**: A Valve, desenvolvedora do jogo, continua a oferecer suporte e atualizações, garantindo que o jogo permaneça relevante e balanceado.\n",
      "\n",
      "Embora existam outros excelentes jogos de tiro em primeira pessoa, como Call of Duty, Battlefield e Apex Legends, Counter-Strike 2 se destaca especialmente por sua profundidade competitiva e legado duradouro no gênero. A preferência pode variar de acordo com o gosto pessoal e o estilo de jogo, mas Counter-Strike 2 é, sem dúvida, um dos maiores clássicos.\n"
     ]
    }
   ],
   "source": [
    "print(res.content)"
   ]
  },
  {
   "cell_type": "code",
   "execution_count": 23,
   "metadata": {},
   "outputs": [],
   "source": [
    "message.append(res)"
   ]
  },
  {
   "cell_type": "code",
   "execution_count": 24,
   "metadata": {},
   "outputs": [
    {
     "data": {
      "text/plain": [
       "[SystemMessage(content='Você é um assistente especializado em games, principalmente em FPS', additional_kwargs={}, response_metadata={}),\n",
       " HumanMessage(content='Qual o melhor jogo de tiro em primeira pessoa?', additional_kwargs={}, response_metadata={}),\n",
       " AIMessage(content='O melhor jogo de tiro em primeira pessoa é o Counter-Strike 2', additional_kwargs={}, response_metadata={}),\n",
       " HumanMessage(content='Por que você acha isso?', additional_kwargs={}, response_metadata={}),\n",
       " AIMessage(content='Counter-Strike 2 é frequentemente considerado um dos melhores jogos de tiro em primeira pessoa por várias razões:\\n\\n1. **Competitividade**: O jogo tem uma das cenas competitivas mais estabelecidas e respeitadas do mundo dos esports. Ligas e torneios, como o ESL e o Major Championship, atraem equipes de alto nível e grandes audiências.\\n\\n2. **Jogabilidade**: A mecânica de tiro é altamente refinada, com um foco em precisão e habilidade. O sistema de economia do jogo também adiciona uma camada estratégica que exige planejamento e trabalho em equipe.\\n\\n3. **Comunidade**: A base de jogadores é enorme e ativa, o que garante partidas consistentes e uma variedade de modos de jogo. A comunidade também contribui com mods e mapas, mantendo o jogo fresco.\\n\\n4. **Acessibilidade**: O jogo é relativamente fácil de aprender, mas difícil de dominar, o que atrai tanto novatos quanto jogadores experientes.\\n\\n5. **Atualizações e Suporte**: A Valve, desenvolvedora do jogo, continua a oferecer suporte e atualizações, garantindo que o jogo permaneça relevante e balanceado.\\n\\nEmbora existam outros excelentes jogos de tiro em primeira pessoa, como Call of Duty, Battlefield e Apex Legends, Counter-Strike 2 se destaca especialmente por sua profundidade competitiva e legado duradouro no gênero. A preferência pode variar de acordo com o gosto pessoal e o estilo de jogo, mas Counter-Strike 2 é, sem dúvida, um dos maiores clássicos.', additional_kwargs={'refusal': None}, response_metadata={'token_usage': {'completion_tokens': 313, 'prompt_tokens': 62, 'total_tokens': 375, 'completion_tokens_details': {'accepted_prediction_tokens': 0, 'audio_tokens': 0, 'reasoning_tokens': 0, 'rejected_prediction_tokens': 0}, 'prompt_tokens_details': {'audio_tokens': 0, 'cached_tokens': 0}}, 'model_name': 'gpt-4o-mini-2024-07-18', 'system_fingerprint': 'fp_0aa8d3e20b', 'finish_reason': 'stop', 'logprobs': None}, id='run-ee5173c9-c3bf-42ba-b327-f866f4688bbf-0', usage_metadata={'input_tokens': 62, 'output_tokens': 313, 'total_tokens': 375, 'input_token_details': {'audio': 0, 'cache_read': 0}, 'output_token_details': {'audio': 0, 'reasoning': 0}})]"
      ]
     },
     "execution_count": 24,
     "metadata": {},
     "output_type": "execute_result"
    }
   ],
   "source": [
    "message"
   ]
  },
  {
   "cell_type": "code",
   "execution_count": 25,
   "metadata": {},
   "outputs": [],
   "source": [
    "prompt = HumanMessage(content=\"Qual a diferença entre CSGO e CS2\")\n",
    "message.append(prompt)"
   ]
  },
  {
   "cell_type": "code",
   "execution_count": 26,
   "metadata": {},
   "outputs": [
    {
     "name": "stdout",
     "output_type": "stream",
     "text": [
      "Counter-Strike 2 (CS2) é a evolução de Counter-Strike: Global Offensive (CS:GO), e existem várias diferenças e melhorias entre os dois jogos. Aqui estão alguns dos principais pontos de distinção:\n",
      "\n",
      "1. **Gráficos e Performance**: CS2 foi desenvolvido utilizando a Source 2 Engine, oferecendo gráficos melhorados, efeitos de iluminação, texturas mais detalhadas e melhor desempenho geral em relação ao CS:GO. Isso resulta em um visual mais moderno e atraente.\n",
      "\n",
      "2. **Melhorias na Jogabilidade**: CS2 introduz novas mecânicas de jogabilidade, como a nova dinâmica de fumaça. As granadas de fumaça agora interagem com o ambiente, podendo ser afetadas por ventos e outros elementos, o que adiciona uma nova camada de estratégia.\n",
      "\n",
      "3. **Sistema de Mapa**: Os mapas em CS2 foram atualizados, com melhorias no design e na visibilidade. Além disso, alguns mapas clássicos foram reformulados para se adequarem ao novo motor e estética do jogo.\n",
      "\n",
      "4. **Interface e HUD**: CS2 traz uma interface de usuário e HUD (heads-up display) atualizados, que proporcionam uma experiência mais limpa e intuitiva.\n",
      "\n",
      "5. **Aprimoramentos na Experiência Social**: CS2 também se concentra em melhorar a experiência social e de matchmaking, com um sistema de partidas mais refinado.\n",
      "\n",
      "6. **Transição de Conteúdo**: A maioria do conteúdo de CS:GO, como skins, mapas e modos de jogo, foi transferida para CS2, garantindo que os jogadores possam continuar a desfrutar de seu conteúdo favorito.\n",
      "\n",
      "Essas mudanças fazem de CS2 uma atualização significativa em relação ao CS:GO, mantendo a essência do jogo enquanto introduz novas mecânicas e melhorias gráficas. Isso ajuda a manter o jogo fresco e relevante para os jogadores, tanto novos quanto veteranos.\n"
     ]
    }
   ],
   "source": [
    "res = chat.invoke(message)\n",
    "print(res.content)"
   ]
  },
  {
   "cell_type": "markdown",
   "metadata": {},
   "source": [
    "*Hallucination*"
   ]
  },
  {
   "cell_type": "code",
   "execution_count": 27,
   "metadata": {},
   "outputs": [
    {
     "name": "stdout",
     "output_type": "stream",
     "text": [
      "Até a minha última atualização em outubro de 2023, o campeonato mais recente de Counter-Strike 2 foi o **BLAST Premier: Fall Finals 2023**, que ocorreu em novembro de 2023. O campeão desse torneio foi a equipe **FaZe Clan**, que derrotou a **Heroic** na grande final.\n",
      "\n",
      "Por favor, verifique fontes atualizadas para confirmar se houve outros campeonatos ou mudanças nas informações desde então.\n"
     ]
    }
   ],
   "source": [
    "message.append(res)\n",
    "\n",
    "prompt = HumanMessage(content=\"Qual foi o time campẽao do último campeonato de CS2?\")\n",
    "\n",
    "message.append(prompt)\n",
    "\n",
    "res = chat.invoke(message)\n",
    "\n",
    "print(res.content)"
   ]
  },
  {
   "cell_type": "markdown",
   "metadata": {},
   "source": [
    "*Context injection*"
   ]
  },
  {
   "cell_type": "code",
   "execution_count": 28,
   "metadata": {},
   "outputs": [],
   "source": [
    "cs2_champions_information = [\n",
    "    \" The most recent team to win a Counter-Strike 2 (CS2) Major was Team Spirit, which triumphed at the Perfect World Shanghai Major 2024, held from December 1 to 15, 2024. In the final, Team Spirit faced FaZe Clan, winning 2-1 in a thrilling series. Team Spirit player donk stood out by being named the tournament Most Valuable Player (MVP), becoming the youngest player to receive this honor in a Counter-Strike Major.\",\n",
    "    \n",
    "    \"Before this event, Natus Vincere (NAVI) claimed the first CS2 Major title at the PGL Major Copenhagen 2024, held from March 17 to 31, 2024, by defeating FaZe Clan in the grand final.\",\n",
    "\n",
    "    \"Astralis remains the organization with the most Major titles, totaling four championships. 0\"\n",
    "]\n",
    "\n",
    "source_knowledge = \"\\n\".join(cs2_champions_information)"
   ]
  },
  {
   "cell_type": "code",
   "execution_count": 29,
   "metadata": {},
   "outputs": [],
   "source": [
    "query = \"Você sabe quem foi o campeão do último campeonato de CS2?\"\n",
    "\n",
    "augmented_prompt = f\"\"\"Use o contexto abaixo para responder a seguinte pergunta:\n",
    "\n",
    "Contexto: {source_knowledge}\n",
    "\n",
    "Pergunta: {query}\n",
    "\n",
    "\"\"\""
   ]
  },
  {
   "cell_type": "code",
   "execution_count": 30,
   "metadata": {},
   "outputs": [
    {
     "name": "stdout",
     "output_type": "stream",
     "text": [
      "Sim, o campeão do último campeonato de CS2 foi a Team Spirit, que venceu o Perfect World Shanghai Major 2024, realizado de 1 a 15 de dezembro de 2024. Eles derrotaram a FaZe Clan na final, com um placar de 2-1.\n"
     ]
    }
   ],
   "source": [
    "prompt = HumanMessage(\n",
    "    content=augmented_prompt\n",
    ")\n",
    "\n",
    "message.append(prompt)\n",
    "\n",
    "res = chat.invoke(message)\n",
    "print(res.content)"
   ]
  },
  {
   "cell_type": "markdown",
   "metadata": {},
   "source": [
    "*Embeddings*"
   ]
  },
  {
   "cell_type": "code",
   "execution_count": 31,
   "metadata": {},
   "outputs": [],
   "source": [
    "from langchain_openai import OpenAIEmbeddings\n",
    "embed_model = OpenAIEmbeddings(model=\"text-embedding-3-small\")"
   ]
  },
  {
   "cell_type": "code",
   "execution_count": 32,
   "metadata": {},
   "outputs": [
    {
     "data": {
      "text/plain": [
       "(2, 1536)"
      ]
     },
     "execution_count": 32,
     "metadata": {},
     "output_type": "execute_result"
    }
   ],
   "source": [
    "texts = [\n",
    "    'this is a test',\n",
    "    'this is another test',\n",
    "]\n",
    "\n",
    "res = embed_model.embed_documents(texts)\n",
    "len(res), len(res[0])"
   ]
  },
  {
   "cell_type": "markdown",
   "metadata": {},
   "source": [
    "*RAG*"
   ]
  },
  {
   "cell_type": "code",
   "execution_count": 33,
   "metadata": {},
   "outputs": [
    {
     "name": "stderr",
     "output_type": "stream",
     "text": [
      "/home/phael/Chatbot_RAG/venv/lib/python3.12/site-packages/tqdm/auto.py:21: TqdmWarning: IProgress not found. Please update jupyter and ipywidgets. See https://ipywidgets.readthedocs.io/en/stable/user_install.html\n",
      "  from .autonotebook import tqdm as notebook_tqdm\n"
     ]
    },
    {
     "data": {
      "text/plain": [
       "Dataset({\n",
       "    features: ['text'],\n",
       "    num_rows: 1373\n",
       "})"
      ]
     },
     "execution_count": 33,
     "metadata": {},
     "output_type": "execute_result"
    }
   ],
   "source": [
    "from datasets import load_dataset\n",
    "dataset = load_dataset(\"assafm/counter-strike-001\", split=\"train\")\n",
    "dataset"
   ]
  },
  {
   "cell_type": "code",
   "execution_count": 34,
   "metadata": {},
   "outputs": [
    {
     "data": {
      "text/plain": [
       "{'text': '<s>[INST] What are the different types of ammunition featured in the Counter-Strike series? [/INST] Pistol, rifle, shotgun, and heavy ammunition </s>'}"
      ]
     },
     "execution_count": 34,
     "metadata": {},
     "output_type": "execute_result"
    }
   ],
   "source": [
    "dataset[0]"
   ]
  },
  {
   "cell_type": "code",
   "execution_count": 35,
   "metadata": {},
   "outputs": [
    {
     "data": {
      "text/html": [
       "<div>\n",
       "<style scoped>\n",
       "    .dataframe tbody tr th:only-of-type {\n",
       "        vertical-align: middle;\n",
       "    }\n",
       "\n",
       "    .dataframe tbody tr th {\n",
       "        vertical-align: top;\n",
       "    }\n",
       "\n",
       "    .dataframe thead th {\n",
       "        text-align: right;\n",
       "    }\n",
       "</style>\n",
       "<table border=\"1\" class=\"dataframe\">\n",
       "  <thead>\n",
       "    <tr style=\"text-align: right;\">\n",
       "      <th></th>\n",
       "      <th>text</th>\n",
       "    </tr>\n",
       "  </thead>\n",
       "  <tbody>\n",
       "    <tr>\n",
       "      <th>0</th>\n",
       "      <td>&lt;s&gt;[INST] What are the different types of ammu...</td>\n",
       "    </tr>\n",
       "    <tr>\n",
       "      <th>1</th>\n",
       "      <td>&lt;s&gt;[INST] What is the simplest way to gauge th...</td>\n",
       "    </tr>\n",
       "    <tr>\n",
       "      <th>2</th>\n",
       "      <td>&lt;s&gt;[INST] How do players purchase ammunition i...</td>\n",
       "    </tr>\n",
       "    <tr>\n",
       "      <th>3</th>\n",
       "      <td>&lt;s&gt;[INST] When do players receive full ammo fo...</td>\n",
       "    </tr>\n",
       "    <tr>\n",
       "      <th>4</th>\n",
       "      <td>&lt;s&gt;[INST] Can players keep the reserve ammo wh...</td>\n",
       "    </tr>\n",
       "  </tbody>\n",
       "</table>\n",
       "</div>"
      ],
      "text/plain": [
       "                                                text\n",
       "0  <s>[INST] What are the different types of ammu...\n",
       "1  <s>[INST] What is the simplest way to gauge th...\n",
       "2  <s>[INST] How do players purchase ammunition i...\n",
       "3  <s>[INST] When do players receive full ammo fo...\n",
       "4  <s>[INST] Can players keep the reserve ammo wh..."
      ]
     },
     "execution_count": 35,
     "metadata": {},
     "output_type": "execute_result"
    }
   ],
   "source": [
    "data = dataset.to_pandas()\n",
    "data.head()"
   ]
  },
  {
   "cell_type": "code",
   "execution_count": 36,
   "metadata": {},
   "outputs": [
    {
     "data": {
      "text/html": [
       "<div>\n",
       "<style scoped>\n",
       "    .dataframe tbody tr th:only-of-type {\n",
       "        vertical-align: middle;\n",
       "    }\n",
       "\n",
       "    .dataframe tbody tr th {\n",
       "        vertical-align: top;\n",
       "    }\n",
       "\n",
       "    .dataframe thead th {\n",
       "        text-align: right;\n",
       "    }\n",
       "</style>\n",
       "<table border=\"1\" class=\"dataframe\">\n",
       "  <thead>\n",
       "    <tr style=\"text-align: right;\">\n",
       "      <th></th>\n",
       "      <th>text</th>\n",
       "    </tr>\n",
       "  </thead>\n",
       "  <tbody>\n",
       "    <tr>\n",
       "      <th>0</th>\n",
       "      <td>&lt;s&gt;[INST] What are the different types of ammu...</td>\n",
       "    </tr>\n",
       "    <tr>\n",
       "      <th>1</th>\n",
       "      <td>&lt;s&gt;[INST] What is the simplest way to gauge th...</td>\n",
       "    </tr>\n",
       "    <tr>\n",
       "      <th>2</th>\n",
       "      <td>&lt;s&gt;[INST] How do players purchase ammunition i...</td>\n",
       "    </tr>\n",
       "    <tr>\n",
       "      <th>3</th>\n",
       "      <td>&lt;s&gt;[INST] When do players receive full ammo fo...</td>\n",
       "    </tr>\n",
       "    <tr>\n",
       "      <th>4</th>\n",
       "      <td>&lt;s&gt;[INST] Can players keep the reserve ammo wh...</td>\n",
       "    </tr>\n",
       "  </tbody>\n",
       "</table>\n",
       "</div>"
      ],
      "text/plain": [
       "                                                text\n",
       "0  <s>[INST] What are the different types of ammu...\n",
       "1  <s>[INST] What is the simplest way to gauge th...\n",
       "2  <s>[INST] How do players purchase ammunition i...\n",
       "3  <s>[INST] When do players receive full ammo fo...\n",
       "4  <s>[INST] Can players keep the reserve ammo wh..."
      ]
     },
     "execution_count": 36,
     "metadata": {},
     "output_type": "execute_result"
    }
   ],
   "source": [
    "docs = data[['text']]\n",
    "docs.head()"
   ]
  },
  {
   "cell_type": "code",
   "execution_count": 37,
   "metadata": {},
   "outputs": [],
   "source": [
    "from langchain_community.document_loaders import DataFrameLoader\n",
    "\n",
    "loader = DataFrameLoader(docs, page_content_column='text')\n",
    "documents = loader.load()"
   ]
  },
  {
   "cell_type": "code",
   "execution_count": 38,
   "metadata": {},
   "outputs": [
    {
     "data": {
      "text/plain": [
       "Document(metadata={}, page_content='<s>[INST] What are the different types of ammunition featured in the Counter-Strike series? [/INST] Pistol, rifle, shotgun, and heavy ammunition </s>')"
      ]
     },
     "execution_count": 38,
     "metadata": {},
     "output_type": "execute_result"
    }
   ],
   "source": [
    "documents[0]"
   ]
  },
  {
   "cell_type": "code",
   "execution_count": 39,
   "metadata": {},
   "outputs": [
    {
     "data": {
      "text/plain": [
       "'<s>[INST] What are the different types of ammunition featured in the Counter-Strike series? [/INST] Pistol, rifle, shotgun, and heavy ammunition </s>'"
      ]
     },
     "execution_count": 39,
     "metadata": {},
     "output_type": "execute_result"
    }
   ],
   "source": [
    "documents[0].page_content"
   ]
  },
  {
   "cell_type": "code",
   "execution_count": 40,
   "metadata": {},
   "outputs": [
    {
     "data": {
      "text/plain": [
       "{}"
      ]
     },
     "execution_count": 40,
     "metadata": {},
     "output_type": "execute_result"
    }
   ],
   "source": [
    "documents[0].metadata"
   ]
  },
  {
   "cell_type": "code",
   "execution_count": 41,
   "metadata": {},
   "outputs": [],
   "source": [
    "from langchain_community.vectorstores import Qdrant\n",
    "from langchain_openai import OpenAIEmbeddings\n",
    "embeddings = OpenAIEmbeddings(model=\"text-embedding-3-small\")\n",
    "\n",
    "qdrant = Qdrant.from_documents(\n",
    "    documents = documents,\n",
    "    embedding = embeddings,\n",
    "    location=\":memory:\",\n",
    "    collection_name=\"chatbot\"\n",
    ")"
   ]
  },
  {
   "cell_type": "code",
   "execution_count": 42,
   "metadata": {},
   "outputs": [
    {
     "data": {
      "text/plain": [
       "[Document(metadata={'_id': 'e7b7e6a8962948d29d4d2b13d7424fe9', '_collection_name': 'chatbot'}, page_content='<s>[INST] How many weapons are there in most Counter-Strike games? [/INST] There are a total of 25 weapons in most Counter-Strike games. </s>'),\n",
       " Document(metadata={'_id': '581ca0722362450fb4b2fe69500e3c1f', '_collection_name': 'chatbot'}, page_content=\"<s>[INST] What is the purpose of weapons in the Counter-Strike series? [/INST] Weapons are used to damage each other's health and kill enemy players in order to obtain kill rewards, gain tactical advantages, or progress to team elimination round victory. </s>\"),\n",
       " Document(metadata={'_id': '50c0a997ee0e4bb9bb6cb97727984594', '_collection_name': 'chatbot'}, page_content='<s>[INST] How many total weapons are there in Counter-Strike after the additions in Global Offensive? [/INST] There is a combined total of 34 weapons in Counter-Strike. </s>'),\n",
       " Document(metadata={'_id': '3381dc80611f4182be29e254ac8b7489', '_collection_name': 'chatbot'}, page_content='<s>[INST] Which weapons have good penetration powers in Counter-Strike? [/INST] Rifles and machine guns have good penetration powers, usually around 200. </s>'),\n",
       " Document(metadata={'_id': '6e4747645f9548b3962c8c256a98a17c', '_collection_name': 'chatbot'}, page_content='<s>[INST] What are the objectives in Counter-Strike? [/INST] The objectives in Counter-Strike include assassination, bomb defusal, escape, and hostage rescue. </s>')]"
      ]
     },
     "execution_count": 42,
     "metadata": {},
     "output_type": "execute_result"
    }
   ],
   "source": [
    "query = \"Quais são as principais armas do jogo Counter-Strike 2?\"\n",
    "qdrant.similarity_search(query, k=5)"
   ]
  },
  {
   "cell_type": "code",
   "execution_count": 43,
   "metadata": {},
   "outputs": [],
   "source": [
    "def custom_prompt(query: str):\n",
    "    results = qdrant.similarity_search(query, k=5)\n",
    "    source_knowledge = \"\\n\".join(x.page_content for x in results)\n",
    "    augmented_prompt = f\"\"\"Use o contexto abaixo para responder a seguinte pergunta:\n",
    "    \n",
    "    Contexto: {source_knowledge}\n",
    "\n",
    "    Pergunta: {query}\"\"\"\n",
    "    return augmented_prompt"
   ]
  },
  {
   "cell_type": "code",
   "execution_count": 44,
   "metadata": {},
   "outputs": [
    {
     "name": "stdout",
     "output_type": "stream",
     "text": [
      "Use o contexto abaixo para responder a seguinte pergunta:\n",
      "    \n",
      "    Contexto: <s>[INST] How many weapons are there in most Counter-Strike games? [/INST] There are a total of 25 weapons in most Counter-Strike games. </s>\n",
      "<s>[INST] What is the purpose of weapons in the Counter-Strike series? [/INST] Weapons are used to damage each other's health and kill enemy players in order to obtain kill rewards, gain tactical advantages, or progress to team elimination round victory. </s>\n",
      "<s>[INST] How many total weapons are there in Counter-Strike after the additions in Global Offensive? [/INST] There is a combined total of 34 weapons in Counter-Strike. </s>\n",
      "<s>[INST] Which weapons have good penetration powers in Counter-Strike? [/INST] Rifles and machine guns have good penetration powers, usually around 200. </s>\n",
      "<s>[INST] What are the objectives in Counter-Strike? [/INST] The objectives in Counter-Strike include assassination, bomb defusal, escape, and hostage rescue. </s>\n",
      "\n",
      "    Pergunta: Quais são as principais armas do jogo Counter-Strike 2?\n"
     ]
    }
   ],
   "source": [
    "print(custom_prompt(query))"
   ]
  },
  {
   "cell_type": "code",
   "execution_count": null,
   "metadata": {},
   "outputs": [],
   "source": []
  }
 ],
 "metadata": {
  "kernelspec": {
   "display_name": "venv",
   "language": "python",
   "name": "python3"
  },
  "language_info": {
   "codemirror_mode": {
    "name": "ipython",
    "version": 3
   },
   "file_extension": ".py",
   "mimetype": "text/x-python",
   "name": "python",
   "nbconvert_exporter": "python",
   "pygments_lexer": "ipython3",
   "version": "3.12.3"
  }
 },
 "nbformat": 4,
 "nbformat_minor": 2
}
