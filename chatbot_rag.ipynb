{
 "cells": [
  {
   "cell_type": "code",
   "execution_count": 25,
   "metadata": {},
   "outputs": [],
   "source": [
    "import os\n",
    "from dotenv import load_dotenv\n",
    "from langchain_openai import ChatOpenAI\n"
   ]
  },
  {
   "cell_type": "code",
   "execution_count": 26,
   "metadata": {},
   "outputs": [
    {
     "name": "stdout",
     "output_type": "stream",
     "text": [
      "True\n"
     ]
    }
   ],
   "source": [
    "api_key = os.getenv('OPENAI_API_KEY')\n",
    "\n",
    "print(api_key is not None)"
   ]
  },
  {
   "cell_type": "code",
   "execution_count": 27,
   "metadata": {},
   "outputs": [],
   "source": [
    "chat = ChatOpenAI(\n",
    "    model = 'gpt-4o-mini'\n",
    ")"
   ]
  },
  {
   "cell_type": "code",
   "execution_count": 28,
   "metadata": {},
   "outputs": [],
   "source": [
    "from langchain.schema import SystemMessage, HumanMessage, AIMessage\n",
    "\n",
    "message = [\n",
    "    SystemMessage(content=\"Você é um assistente especializado em games, principalmente em FPS\"),\n",
    "    HumanMessage(content=\"Qual o melhor jogo de tiro em primeira pessoa?\"),\n",
    "    AIMessage(content=\"O melhor jogo de tiro em primeira pessoa é o Counter-Strike 2\"),\n",
    "    HumanMessage(content=\"Por que você acha isso?\"),\n",
    "]"
   ]
  },
  {
   "cell_type": "code",
   "execution_count": 29,
   "metadata": {},
   "outputs": [
    {
     "data": {
      "text/plain": [
       "AIMessage(content='Counter-Strike 2 é frequentemente considerado um dos melhores jogos de tiro em primeira pessoa por várias razões:\\n\\n1. **Competitividade**: O jogo é altamente competitivo e tem uma cena de eSports muito ativa. Isso atrai jogadores que buscam um desafio constante e a oportunidade de melhorar suas habilidades.\\n\\n2. **Jogabilidade Tática**: A ênfase em estratégia e trabalho em equipe torna cada partida única. Os jogadores precisam se comunicar e colaborar para alcançar os objetivos, o que adiciona uma camada de profundidade ao jogo.\\n\\n3. **Acessibilidade**: Embora tenha uma curva de aprendizado, Counter-Strike é acessível para novos jogadores, permitindo que eles entrem no jogo rapidamente e aprendam com a prática.\\n\\n4. **Comunidade**: A comunidade é uma das mais dedicadas e apaixonadas do mundo dos jogos, oferecendo suporte, tutoriais e uma vasta gama de conteúdo criado pelos usuários.\\n\\n5. **Atualizações e Suporte**: A série Counter-Strike recebeu atualizações constantes ao longo dos anos, melhorando a mecânica do jogo e adaptando-se às tendências do cenário competitivo.\\n\\n6. **Legado**: Desde o seu lançamento inicial, a série se tornou um marco na história dos games, influenciando muitos outros títulos de FPS.\\n\\nEmbora o \"melhor\" jogo possa variar de acordo com a preferência pessoal, Counter-Strike 2 se destaca por esses aspectos e continua a ser uma referência no gênero de FPS. Outros jogos, como Call of Duty, Battlefield e Apex Legends, também têm seus próprios méritos e podem ser considerados os melhores em diferentes contextos.', additional_kwargs={'refusal': None}, response_metadata={'token_usage': {'completion_tokens': 331, 'prompt_tokens': 62, 'total_tokens': 393, 'completion_tokens_details': {'accepted_prediction_tokens': 0, 'audio_tokens': 0, 'reasoning_tokens': 0, 'rejected_prediction_tokens': 0}, 'prompt_tokens_details': {'audio_tokens': 0, 'cached_tokens': 0}}, 'model_name': 'gpt-4o-mini-2024-07-18', 'system_fingerprint': 'fp_d02d531b47', 'finish_reason': 'stop', 'logprobs': None}, id='run-12ed7e4c-a25f-41a6-953b-c8b2cdbb3a51-0', usage_metadata={'input_tokens': 62, 'output_tokens': 331, 'total_tokens': 393, 'input_token_details': {'audio': 0, 'cache_read': 0}, 'output_token_details': {'audio': 0, 'reasoning': 0}})"
      ]
     },
     "execution_count": 29,
     "metadata": {},
     "output_type": "execute_result"
    }
   ],
   "source": [
    "res = chat.invoke(message)\n",
    "res"
   ]
  },
  {
   "cell_type": "code",
   "execution_count": 30,
   "metadata": {},
   "outputs": [
    {
     "name": "stdout",
     "output_type": "stream",
     "text": [
      "Counter-Strike 2 é frequentemente considerado um dos melhores jogos de tiro em primeira pessoa por várias razões:\n",
      "\n",
      "1. **Competitividade**: O jogo é altamente competitivo e tem uma cena de eSports muito ativa. Isso atrai jogadores que buscam um desafio constante e a oportunidade de melhorar suas habilidades.\n",
      "\n",
      "2. **Jogabilidade Tática**: A ênfase em estratégia e trabalho em equipe torna cada partida única. Os jogadores precisam se comunicar e colaborar para alcançar os objetivos, o que adiciona uma camada de profundidade ao jogo.\n",
      "\n",
      "3. **Acessibilidade**: Embora tenha uma curva de aprendizado, Counter-Strike é acessível para novos jogadores, permitindo que eles entrem no jogo rapidamente e aprendam com a prática.\n",
      "\n",
      "4. **Comunidade**: A comunidade é uma das mais dedicadas e apaixonadas do mundo dos jogos, oferecendo suporte, tutoriais e uma vasta gama de conteúdo criado pelos usuários.\n",
      "\n",
      "5. **Atualizações e Suporte**: A série Counter-Strike recebeu atualizações constantes ao longo dos anos, melhorando a mecânica do jogo e adaptando-se às tendências do cenário competitivo.\n",
      "\n",
      "6. **Legado**: Desde o seu lançamento inicial, a série se tornou um marco na história dos games, influenciando muitos outros títulos de FPS.\n",
      "\n",
      "Embora o \"melhor\" jogo possa variar de acordo com a preferência pessoal, Counter-Strike 2 se destaca por esses aspectos e continua a ser uma referência no gênero de FPS. Outros jogos, como Call of Duty, Battlefield e Apex Legends, também têm seus próprios méritos e podem ser considerados os melhores em diferentes contextos.\n"
     ]
    }
   ],
   "source": [
    "print(res.content)"
   ]
  },
  {
   "cell_type": "code",
   "execution_count": 31,
   "metadata": {},
   "outputs": [],
   "source": [
    "message.append(res)"
   ]
  },
  {
   "cell_type": "code",
   "execution_count": 32,
   "metadata": {},
   "outputs": [
    {
     "data": {
      "text/plain": [
       "[SystemMessage(content='Você é um assistente especializado em games, principalmente em FPS', additional_kwargs={}, response_metadata={}),\n",
       " HumanMessage(content='Qual o melhor jogo de tiro em primeira pessoa?', additional_kwargs={}, response_metadata={}),\n",
       " AIMessage(content='O melhor jogo de tiro em primeira pessoa é o Counter-Strike 2', additional_kwargs={}, response_metadata={}),\n",
       " HumanMessage(content='Por que você acha isso?', additional_kwargs={}, response_metadata={}),\n",
       " AIMessage(content='Counter-Strike 2 é frequentemente considerado um dos melhores jogos de tiro em primeira pessoa por várias razões:\\n\\n1. **Competitividade**: O jogo é altamente competitivo e tem uma cena de eSports muito ativa. Isso atrai jogadores que buscam um desafio constante e a oportunidade de melhorar suas habilidades.\\n\\n2. **Jogabilidade Tática**: A ênfase em estratégia e trabalho em equipe torna cada partida única. Os jogadores precisam se comunicar e colaborar para alcançar os objetivos, o que adiciona uma camada de profundidade ao jogo.\\n\\n3. **Acessibilidade**: Embora tenha uma curva de aprendizado, Counter-Strike é acessível para novos jogadores, permitindo que eles entrem no jogo rapidamente e aprendam com a prática.\\n\\n4. **Comunidade**: A comunidade é uma das mais dedicadas e apaixonadas do mundo dos jogos, oferecendo suporte, tutoriais e uma vasta gama de conteúdo criado pelos usuários.\\n\\n5. **Atualizações e Suporte**: A série Counter-Strike recebeu atualizações constantes ao longo dos anos, melhorando a mecânica do jogo e adaptando-se às tendências do cenário competitivo.\\n\\n6. **Legado**: Desde o seu lançamento inicial, a série se tornou um marco na história dos games, influenciando muitos outros títulos de FPS.\\n\\nEmbora o \"melhor\" jogo possa variar de acordo com a preferência pessoal, Counter-Strike 2 se destaca por esses aspectos e continua a ser uma referência no gênero de FPS. Outros jogos, como Call of Duty, Battlefield e Apex Legends, também têm seus próprios méritos e podem ser considerados os melhores em diferentes contextos.', additional_kwargs={'refusal': None}, response_metadata={'token_usage': {'completion_tokens': 331, 'prompt_tokens': 62, 'total_tokens': 393, 'completion_tokens_details': {'accepted_prediction_tokens': 0, 'audio_tokens': 0, 'reasoning_tokens': 0, 'rejected_prediction_tokens': 0}, 'prompt_tokens_details': {'audio_tokens': 0, 'cached_tokens': 0}}, 'model_name': 'gpt-4o-mini-2024-07-18', 'system_fingerprint': 'fp_d02d531b47', 'finish_reason': 'stop', 'logprobs': None}, id='run-12ed7e4c-a25f-41a6-953b-c8b2cdbb3a51-0', usage_metadata={'input_tokens': 62, 'output_tokens': 331, 'total_tokens': 393, 'input_token_details': {'audio': 0, 'cache_read': 0}, 'output_token_details': {'audio': 0, 'reasoning': 0}})]"
      ]
     },
     "execution_count": 32,
     "metadata": {},
     "output_type": "execute_result"
    }
   ],
   "source": [
    "message"
   ]
  },
  {
   "cell_type": "code",
   "execution_count": 33,
   "metadata": {},
   "outputs": [],
   "source": [
    "prompt = HumanMessage(content=\"Qual a diferença entre CSGO e CS2\")\n",
    "message.append(prompt)"
   ]
  },
  {
   "cell_type": "code",
   "execution_count": 34,
   "metadata": {},
   "outputs": [
    {
     "name": "stdout",
     "output_type": "stream",
     "text": [
      "Counter-Strike 2 (CS2) é uma atualização significativa de Counter-Strike: Global Offensive (CS:GO), e embora mantenha a essência do jogo, existem várias diferenças e melhorias. Aqui estão algumas das principais diferenças:\n",
      "\n",
      "1. **Gráficos e Engine**: CS2 utiliza a nova engine Source 2, que oferece gráficos melhorados, iluminação dinâmica e efeitos visuais mais realistas. Isso resulta em ambientes mais detalhados e uma experiência visual mais imersiva.\n",
      "\n",
      "2. **Atualizações de Mapa**: Muitos mapas foram reimaginados ou atualizados para tirar proveito das novas capacidades gráficas e de jogo. Alguns mapas clássicos receberam melhorias visuais e de jogabilidade.\n",
      "\n",
      "3. **Sistema de Fumaça**: No CS2, a fumaça é dinâmica e interativa. Isso significa que ela pode se comportar de maneira diferente dependendo do ambiente e da interação dos jogadores, como ser afetada por granadas ou por tiros, criando uma jogabilidade mais tática.\n",
      "\n",
      "4. **Melhorias na Jogabilidade**: CS2 introduziu várias melhorias na mecânica de jogo, como um sistema de movimentação mais refinado e ajustes na balança de armas, visando uma experiência mais equilibrada e fluida.\n",
      "\n",
      "5. **Interface e HUD**: A interface do usuário (HUD) foi atualizada para ser mais moderna e intuitiva, facilitando o acesso às informações relevantes durante as partidas.\n",
      "\n",
      "6. **Suporte a Novos Recursos**: CS2 pode incluir novos recursos, como matchmaking aprimorado, melhores ferramentas de anti-trapaça e opções de personalização para os jogadores.\n",
      "\n",
      "7. **Transição de Conteúdo**: Muitos dos itens, skins e conteúdo de CS:GO foram transferidos para CS2, permitindo que os jogadores mantenham suas coleções.\n",
      "\n",
      "Essas diferenças ajudam a garantir que CS2 ofereça uma experiência fresca e moderna, enquanto ainda preserva o que os jogadores amam na série Counter-Strike.\n"
     ]
    }
   ],
   "source": [
    "res = chat.invoke(message)\n",
    "print(res.content)"
   ]
  },
  {
   "cell_type": "markdown",
   "metadata": {},
   "source": [
    "*Hallucination*"
   ]
  },
  {
   "cell_type": "code",
   "execution_count": 35,
   "metadata": {},
   "outputs": [
    {
     "name": "stdout",
     "output_type": "stream",
     "text": [
      "Até a minha última atualização em outubro de 2023, o campeonato mais relevante de Counter-Strike 2 foi o IEM (Intel Extreme Masters) 2023, que ocorreu em várias etapas ao longo do ano. O time campeão desse torneio foi a **Heroic**, que se destacou em um cenário competitivo bastante acirrado.\n",
      "\n",
      "Entretanto, como os eventos de eSports acontecem frequentemente, recomendo verificar as fontes mais atualizadas, como sites de notícias de jogos ou plataformas de eSports, para obter informações sobre campeonatos mais recentes e seus vencedores.\n"
     ]
    }
   ],
   "source": [
    "message.append(res)\n",
    "\n",
    "prompt = HumanMessage(content=\"Qual foi o time campẽao do último campeonato de CS2?\")\n",
    "\n",
    "message.append(prompt)\n",
    "\n",
    "res = chat.invoke(message)\n",
    "\n",
    "print(res.content)"
   ]
  },
  {
   "cell_type": "markdown",
   "metadata": {},
   "source": [
    "*Context injection*"
   ]
  },
  {
   "cell_type": "code",
   "execution_count": 36,
   "metadata": {},
   "outputs": [],
   "source": [
    "cs2_champions_information = [\n",
    "    \" The most recent team to win a Counter-Strike 2 (CS2) Major was Team Spirit, which triumphed at the Perfect World Shanghai Major 2024, held from December 1 to 15, 2024. In the final, Team Spirit faced FaZe Clan, winning 2-1 in a thrilling series. Team Spirit player donk stood out by being named the tournament Most Valuable Player (MVP), becoming the youngest player to receive this honor in a Counter-Strike Major.\",\n",
    "    \n",
    "    \"Before this event, Natus Vincere (NAVI) claimed the first CS2 Major title at the PGL Major Copenhagen 2024, held from March 17 to 31, 2024, by defeating FaZe Clan in the grand final.\",\n",
    "\n",
    "    \"Astralis remains the organization with the most Major titles, totaling four championships. 0\"\n",
    "]\n",
    "\n",
    "source_knowledge = \"\\n\".join(cs2_champions_information)"
   ]
  },
  {
   "cell_type": "code",
   "execution_count": 37,
   "metadata": {},
   "outputs": [],
   "source": [
    "query = \"Você sabe quem foi o campeão do último campeonato de CS2?\"\n",
    "\n",
    "augmented_prompt = f\"\"\"Use o contexto abaixo para responder a seguinte pergunta:\n",
    "\n",
    "Contexto: {source_knowledge}\n",
    "\n",
    "Pergunta: {query}\n",
    "\n",
    "\"\"\""
   ]
  },
  {
   "cell_type": "code",
   "execution_count": 38,
   "metadata": {},
   "outputs": [
    {
     "name": "stdout",
     "output_type": "stream",
     "text": [
      "Sim, o campeão do último campeonato de Counter-Strike 2 (CS2) foi a Team Spirit, que venceu o Perfect World Shanghai Major 2024, realizado de 1 a 15 de dezembro de 2024. Eles derrotaram a FaZe Clan na final, com um placar de 2-1.\n"
     ]
    }
   ],
   "source": [
    "prompt = HumanMessage(\n",
    "    content=augmented_prompt\n",
    ")\n",
    "\n",
    "message.append(prompt)\n",
    "\n",
    "res = chat.invoke(message)\n",
    "print(res.content)"
   ]
  },
  {
   "cell_type": "markdown",
   "metadata": {},
   "source": [
    "*Embeddings*"
   ]
  },
  {
   "cell_type": "code",
   "execution_count": null,
   "metadata": {},
   "outputs": [],
   "source": []
  }
 ],
 "metadata": {
  "kernelspec": {
   "display_name": "venv",
   "language": "python",
   "name": "python3"
  },
  "language_info": {
   "codemirror_mode": {
    "name": "ipython",
    "version": 3
   },
   "file_extension": ".py",
   "mimetype": "text/x-python",
   "name": "python",
   "nbconvert_exporter": "python",
   "pygments_lexer": "ipython3",
   "version": "3.12.3"
  }
 },
 "nbformat": 4,
 "nbformat_minor": 2
}
